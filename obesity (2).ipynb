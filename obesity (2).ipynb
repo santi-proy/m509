{
  "cells": [
    {
      "cell_type": "code",
      "execution_count": 75,
      "id": "07366620-6c37-43e5-84b7-f68861993cc8",
      "metadata": {
        "id": "07366620-6c37-43e5-84b7-f68861993cc8"
      },
      "outputs": [],
      "source": [
        "import pandas as pd\n",
        "import numpy as np\n",
        "import matplotlib.pyplot as plt\n",
        "import seaborn as sns\n",
        "from scipy.stats import randint\n",
        "from imblearn.over_sampling import SMOTE\n",
        "from sklearn.ensemble import RandomForestClassifier\n",
        "from sklearn.model_selection import train_test_split\n",
        "from sklearn.model_selection import RandomizedSearchCV, train_test_split\n",
        "from sklearn.model_selection import cross_val_score\n",
        "from sklearn.model_selection import StratifiedKFold\n",
        "from sklearn.metrics import accuracy_score, classification_report, confusion_matrix\n",
        "from sklearn.metrics import accuracy_score, confusion_matrix, precision_score, recall_score, ConfusionMatrixDisplay\n",
        "from sklearn.tree import plot_tree\n",
        "from sklearn.tree import export_graphviz\n",
        "from sklearn.tree import DecisionTreeClassifier\n",
        "from IPython.display import Image\n",
        "from sklearn.preprocessing import StandardScaler\n",
        "from sklearn.model_selection import GridSearchCV\n",
        "from sklearn.metrics import classification_report\n",
        "from sklearn.utils.class_weight import compute_class_weight\n",
        "from sklearn.inspection import permutation_importance\n",
        "import shap"
      ]
    },
    {
      "cell_type": "markdown",
      "id": "ede2d959-83d8-4108-bab5-eb6c76913769",
      "metadata": {
        "id": "ede2d959-83d8-4108-bab5-eb6c76913769"
      },
      "source": [
        "# <span style=\"color:violet\">**Exploratory Data Analysis I**</span>"
      ]
    },
    {
      "cell_type": "code",
      "execution_count": 3,
      "id": "43a459ed-2ec9-4489-9859-c58283115fde",
      "metadata": {
        "id": "43a459ed-2ec9-4489-9859-c58283115fde"
      },
      "outputs": [],
      "source": [
        "sns.set_theme(style=\"darkgrid\")"
      ]
    },
    {
      "cell_type": "code",
      "source": [
        "from google.colab import files\n",
        "uploaded = files.upload()"
      ],
      "metadata": {
        "colab": {
          "base_uri": "https://localhost:8080/",
          "height": 73
        },
        "id": "VZjWad-BGemH",
        "outputId": "791b6940-6bf5-4212-9523-6963cba13f5c"
      },
      "id": "VZjWad-BGemH",
      "execution_count": 4,
      "outputs": [
        {
          "output_type": "display_data",
          "data": {
            "text/plain": [
              "<IPython.core.display.HTML object>"
            ],
            "text/html": [
              "\n",
              "     <input type=\"file\" id=\"files-e8378a17-cb2a-43bf-b351-41f54fb5717f\" name=\"files[]\" multiple disabled\n",
              "        style=\"border:none\" />\n",
              "     <output id=\"result-e8378a17-cb2a-43bf-b351-41f54fb5717f\">\n",
              "      Upload widget is only available when the cell has been executed in the\n",
              "      current browser session. Please rerun this cell to enable.\n",
              "      </output>\n",
              "      <script>// Copyright 2017 Google LLC\n",
              "//\n",
              "// Licensed under the Apache License, Version 2.0 (the \"License\");\n",
              "// you may not use this file except in compliance with the License.\n",
              "// You may obtain a copy of the License at\n",
              "//\n",
              "//      http://www.apache.org/licenses/LICENSE-2.0\n",
              "//\n",
              "// Unless required by applicable law or agreed to in writing, software\n",
              "// distributed under the License is distributed on an \"AS IS\" BASIS,\n",
              "// WITHOUT WARRANTIES OR CONDITIONS OF ANY KIND, either express or implied.\n",
              "// See the License for the specific language governing permissions and\n",
              "// limitations under the License.\n",
              "\n",
              "/**\n",
              " * @fileoverview Helpers for google.colab Python module.\n",
              " */\n",
              "(function(scope) {\n",
              "function span(text, styleAttributes = {}) {\n",
              "  const element = document.createElement('span');\n",
              "  element.textContent = text;\n",
              "  for (const key of Object.keys(styleAttributes)) {\n",
              "    element.style[key] = styleAttributes[key];\n",
              "  }\n",
              "  return element;\n",
              "}\n",
              "\n",
              "// Max number of bytes which will be uploaded at a time.\n",
              "const MAX_PAYLOAD_SIZE = 100 * 1024;\n",
              "\n",
              "function _uploadFiles(inputId, outputId) {\n",
              "  const steps = uploadFilesStep(inputId, outputId);\n",
              "  const outputElement = document.getElementById(outputId);\n",
              "  // Cache steps on the outputElement to make it available for the next call\n",
              "  // to uploadFilesContinue from Python.\n",
              "  outputElement.steps = steps;\n",
              "\n",
              "  return _uploadFilesContinue(outputId);\n",
              "}\n",
              "\n",
              "// This is roughly an async generator (not supported in the browser yet),\n",
              "// where there are multiple asynchronous steps and the Python side is going\n",
              "// to poll for completion of each step.\n",
              "// This uses a Promise to block the python side on completion of each step,\n",
              "// then passes the result of the previous step as the input to the next step.\n",
              "function _uploadFilesContinue(outputId) {\n",
              "  const outputElement = document.getElementById(outputId);\n",
              "  const steps = outputElement.steps;\n",
              "\n",
              "  const next = steps.next(outputElement.lastPromiseValue);\n",
              "  return Promise.resolve(next.value.promise).then((value) => {\n",
              "    // Cache the last promise value to make it available to the next\n",
              "    // step of the generator.\n",
              "    outputElement.lastPromiseValue = value;\n",
              "    return next.value.response;\n",
              "  });\n",
              "}\n",
              "\n",
              "/**\n",
              " * Generator function which is called between each async step of the upload\n",
              " * process.\n",
              " * @param {string} inputId Element ID of the input file picker element.\n",
              " * @param {string} outputId Element ID of the output display.\n",
              " * @return {!Iterable<!Object>} Iterable of next steps.\n",
              " */\n",
              "function* uploadFilesStep(inputId, outputId) {\n",
              "  const inputElement = document.getElementById(inputId);\n",
              "  inputElement.disabled = false;\n",
              "\n",
              "  const outputElement = document.getElementById(outputId);\n",
              "  outputElement.innerHTML = '';\n",
              "\n",
              "  const pickedPromise = new Promise((resolve) => {\n",
              "    inputElement.addEventListener('change', (e) => {\n",
              "      resolve(e.target.files);\n",
              "    });\n",
              "  });\n",
              "\n",
              "  const cancel = document.createElement('button');\n",
              "  inputElement.parentElement.appendChild(cancel);\n",
              "  cancel.textContent = 'Cancel upload';\n",
              "  const cancelPromise = new Promise((resolve) => {\n",
              "    cancel.onclick = () => {\n",
              "      resolve(null);\n",
              "    };\n",
              "  });\n",
              "\n",
              "  // Wait for the user to pick the files.\n",
              "  const files = yield {\n",
              "    promise: Promise.race([pickedPromise, cancelPromise]),\n",
              "    response: {\n",
              "      action: 'starting',\n",
              "    }\n",
              "  };\n",
              "\n",
              "  cancel.remove();\n",
              "\n",
              "  // Disable the input element since further picks are not allowed.\n",
              "  inputElement.disabled = true;\n",
              "\n",
              "  if (!files) {\n",
              "    return {\n",
              "      response: {\n",
              "        action: 'complete',\n",
              "      }\n",
              "    };\n",
              "  }\n",
              "\n",
              "  for (const file of files) {\n",
              "    const li = document.createElement('li');\n",
              "    li.append(span(file.name, {fontWeight: 'bold'}));\n",
              "    li.append(span(\n",
              "        `(${file.type || 'n/a'}) - ${file.size} bytes, ` +\n",
              "        `last modified: ${\n",
              "            file.lastModifiedDate ? file.lastModifiedDate.toLocaleDateString() :\n",
              "                                    'n/a'} - `));\n",
              "    const percent = span('0% done');\n",
              "    li.appendChild(percent);\n",
              "\n",
              "    outputElement.appendChild(li);\n",
              "\n",
              "    const fileDataPromise = new Promise((resolve) => {\n",
              "      const reader = new FileReader();\n",
              "      reader.onload = (e) => {\n",
              "        resolve(e.target.result);\n",
              "      };\n",
              "      reader.readAsArrayBuffer(file);\n",
              "    });\n",
              "    // Wait for the data to be ready.\n",
              "    let fileData = yield {\n",
              "      promise: fileDataPromise,\n",
              "      response: {\n",
              "        action: 'continue',\n",
              "      }\n",
              "    };\n",
              "\n",
              "    // Use a chunked sending to avoid message size limits. See b/62115660.\n",
              "    let position = 0;\n",
              "    do {\n",
              "      const length = Math.min(fileData.byteLength - position, MAX_PAYLOAD_SIZE);\n",
              "      const chunk = new Uint8Array(fileData, position, length);\n",
              "      position += length;\n",
              "\n",
              "      const base64 = btoa(String.fromCharCode.apply(null, chunk));\n",
              "      yield {\n",
              "        response: {\n",
              "          action: 'append',\n",
              "          file: file.name,\n",
              "          data: base64,\n",
              "        },\n",
              "      };\n",
              "\n",
              "      let percentDone = fileData.byteLength === 0 ?\n",
              "          100 :\n",
              "          Math.round((position / fileData.byteLength) * 100);\n",
              "      percent.textContent = `${percentDone}% done`;\n",
              "\n",
              "    } while (position < fileData.byteLength);\n",
              "  }\n",
              "\n",
              "  // All done.\n",
              "  yield {\n",
              "    response: {\n",
              "      action: 'complete',\n",
              "    }\n",
              "  };\n",
              "}\n",
              "\n",
              "scope.google = scope.google || {};\n",
              "scope.google.colab = scope.google.colab || {};\n",
              "scope.google.colab._files = {\n",
              "  _uploadFiles,\n",
              "  _uploadFilesContinue,\n",
              "};\n",
              "})(self);\n",
              "</script> "
            ]
          },
          "metadata": {}
        },
        {
          "output_type": "stream",
          "name": "stdout",
          "text": [
            "Saving obesity.csv to obesity.csv\n"
          ]
        }
      ]
    },
    {
      "cell_type": "code",
      "execution_count": 5,
      "id": "a84f2d96-7c40-4992-87a8-182d618c4479",
      "metadata": {
        "id": "a84f2d96-7c40-4992-87a8-182d618c4479"
      },
      "outputs": [],
      "source": [
        "df=pd.read_csv(\"obesity.csv\")"
      ]
    },
    {
      "cell_type": "code",
      "execution_count": 6,
      "id": "583218b3-5708-4133-94f6-73903f5ae343",
      "metadata": {
        "id": "583218b3-5708-4133-94f6-73903f5ae343",
        "outputId": "41355d15-c04b-4f2b-ce10-4c783fdb92ba",
        "colab": {
          "base_uri": "https://localhost:8080/",
          "height": 206
        }
      },
      "outputs": [
        {
          "output_type": "execute_result",
          "data": {
            "text/plain": [
              "   gend  age  height  weight  famhist  calH  veg  meals  snacks  smoke  water  \\\n",
              "0     1   21    1.62    64.0        1     0    1      3       1      0      2   \n",
              "1     1   21    1.52    56.0        1     0    2      3       1      1      3   \n",
              "2     0   23    1.80    77.0        1     0    1      3       1      0      2   \n",
              "3     0   27    1.80    87.0        0     0    2      3       1      0      2   \n",
              "4     0   22    1.78    89.8        0     0    1      1       1      0      2   \n",
              "\n",
              "   calM  phys  tech  alc  trans  obese  \n",
              "0     0     0     1    0      4      2  \n",
              "1     1     3     0    1      4      2  \n",
              "2     0     2     1    2      4      2  \n",
              "3     0     2     0    2      5      3  \n",
              "4     0     0     0    1      4      4  "
            ],
            "text/html": [
              "\n",
              "  <div id=\"df-5699a6ac-17f1-4345-b39d-22f0bc2a39f3\" class=\"colab-df-container\">\n",
              "    <div>\n",
              "<style scoped>\n",
              "    .dataframe tbody tr th:only-of-type {\n",
              "        vertical-align: middle;\n",
              "    }\n",
              "\n",
              "    .dataframe tbody tr th {\n",
              "        vertical-align: top;\n",
              "    }\n",
              "\n",
              "    .dataframe thead th {\n",
              "        text-align: right;\n",
              "    }\n",
              "</style>\n",
              "<table border=\"1\" class=\"dataframe\">\n",
              "  <thead>\n",
              "    <tr style=\"text-align: right;\">\n",
              "      <th></th>\n",
              "      <th>gend</th>\n",
              "      <th>age</th>\n",
              "      <th>height</th>\n",
              "      <th>weight</th>\n",
              "      <th>famhist</th>\n",
              "      <th>calH</th>\n",
              "      <th>veg</th>\n",
              "      <th>meals</th>\n",
              "      <th>snacks</th>\n",
              "      <th>smoke</th>\n",
              "      <th>water</th>\n",
              "      <th>calM</th>\n",
              "      <th>phys</th>\n",
              "      <th>tech</th>\n",
              "      <th>alc</th>\n",
              "      <th>trans</th>\n",
              "      <th>obese</th>\n",
              "    </tr>\n",
              "  </thead>\n",
              "  <tbody>\n",
              "    <tr>\n",
              "      <th>0</th>\n",
              "      <td>1</td>\n",
              "      <td>21</td>\n",
              "      <td>1.62</td>\n",
              "      <td>64.0</td>\n",
              "      <td>1</td>\n",
              "      <td>0</td>\n",
              "      <td>1</td>\n",
              "      <td>3</td>\n",
              "      <td>1</td>\n",
              "      <td>0</td>\n",
              "      <td>2</td>\n",
              "      <td>0</td>\n",
              "      <td>0</td>\n",
              "      <td>1</td>\n",
              "      <td>0</td>\n",
              "      <td>4</td>\n",
              "      <td>2</td>\n",
              "    </tr>\n",
              "    <tr>\n",
              "      <th>1</th>\n",
              "      <td>1</td>\n",
              "      <td>21</td>\n",
              "      <td>1.52</td>\n",
              "      <td>56.0</td>\n",
              "      <td>1</td>\n",
              "      <td>0</td>\n",
              "      <td>2</td>\n",
              "      <td>3</td>\n",
              "      <td>1</td>\n",
              "      <td>1</td>\n",
              "      <td>3</td>\n",
              "      <td>1</td>\n",
              "      <td>3</td>\n",
              "      <td>0</td>\n",
              "      <td>1</td>\n",
              "      <td>4</td>\n",
              "      <td>2</td>\n",
              "    </tr>\n",
              "    <tr>\n",
              "      <th>2</th>\n",
              "      <td>0</td>\n",
              "      <td>23</td>\n",
              "      <td>1.80</td>\n",
              "      <td>77.0</td>\n",
              "      <td>1</td>\n",
              "      <td>0</td>\n",
              "      <td>1</td>\n",
              "      <td>3</td>\n",
              "      <td>1</td>\n",
              "      <td>0</td>\n",
              "      <td>2</td>\n",
              "      <td>0</td>\n",
              "      <td>2</td>\n",
              "      <td>1</td>\n",
              "      <td>2</td>\n",
              "      <td>4</td>\n",
              "      <td>2</td>\n",
              "    </tr>\n",
              "    <tr>\n",
              "      <th>3</th>\n",
              "      <td>0</td>\n",
              "      <td>27</td>\n",
              "      <td>1.80</td>\n",
              "      <td>87.0</td>\n",
              "      <td>0</td>\n",
              "      <td>0</td>\n",
              "      <td>2</td>\n",
              "      <td>3</td>\n",
              "      <td>1</td>\n",
              "      <td>0</td>\n",
              "      <td>2</td>\n",
              "      <td>0</td>\n",
              "      <td>2</td>\n",
              "      <td>0</td>\n",
              "      <td>2</td>\n",
              "      <td>5</td>\n",
              "      <td>3</td>\n",
              "    </tr>\n",
              "    <tr>\n",
              "      <th>4</th>\n",
              "      <td>0</td>\n",
              "      <td>22</td>\n",
              "      <td>1.78</td>\n",
              "      <td>89.8</td>\n",
              "      <td>0</td>\n",
              "      <td>0</td>\n",
              "      <td>1</td>\n",
              "      <td>1</td>\n",
              "      <td>1</td>\n",
              "      <td>0</td>\n",
              "      <td>2</td>\n",
              "      <td>0</td>\n",
              "      <td>0</td>\n",
              "      <td>0</td>\n",
              "      <td>1</td>\n",
              "      <td>4</td>\n",
              "      <td>4</td>\n",
              "    </tr>\n",
              "  </tbody>\n",
              "</table>\n",
              "</div>\n",
              "    <div class=\"colab-df-buttons\">\n",
              "\n",
              "  <div class=\"colab-df-container\">\n",
              "    <button class=\"colab-df-convert\" onclick=\"convertToInteractive('df-5699a6ac-17f1-4345-b39d-22f0bc2a39f3')\"\n",
              "            title=\"Convert this dataframe to an interactive table.\"\n",
              "            style=\"display:none;\">\n",
              "\n",
              "  <svg xmlns=\"http://www.w3.org/2000/svg\" height=\"24px\" viewBox=\"0 -960 960 960\">\n",
              "    <path d=\"M120-120v-720h720v720H120Zm60-500h600v-160H180v160Zm220 220h160v-160H400v160Zm0 220h160v-160H400v160ZM180-400h160v-160H180v160Zm440 0h160v-160H620v160ZM180-180h160v-160H180v160Zm440 0h160v-160H620v160Z\"/>\n",
              "  </svg>\n",
              "    </button>\n",
              "\n",
              "  <style>\n",
              "    .colab-df-container {\n",
              "      display:flex;\n",
              "      gap: 12px;\n",
              "    }\n",
              "\n",
              "    .colab-df-convert {\n",
              "      background-color: #E8F0FE;\n",
              "      border: none;\n",
              "      border-radius: 50%;\n",
              "      cursor: pointer;\n",
              "      display: none;\n",
              "      fill: #1967D2;\n",
              "      height: 32px;\n",
              "      padding: 0 0 0 0;\n",
              "      width: 32px;\n",
              "    }\n",
              "\n",
              "    .colab-df-convert:hover {\n",
              "      background-color: #E2EBFA;\n",
              "      box-shadow: 0px 1px 2px rgba(60, 64, 67, 0.3), 0px 1px 3px 1px rgba(60, 64, 67, 0.15);\n",
              "      fill: #174EA6;\n",
              "    }\n",
              "\n",
              "    .colab-df-buttons div {\n",
              "      margin-bottom: 4px;\n",
              "    }\n",
              "\n",
              "    [theme=dark] .colab-df-convert {\n",
              "      background-color: #3B4455;\n",
              "      fill: #D2E3FC;\n",
              "    }\n",
              "\n",
              "    [theme=dark] .colab-df-convert:hover {\n",
              "      background-color: #434B5C;\n",
              "      box-shadow: 0px 1px 3px 1px rgba(0, 0, 0, 0.15);\n",
              "      filter: drop-shadow(0px 1px 2px rgba(0, 0, 0, 0.3));\n",
              "      fill: #FFFFFF;\n",
              "    }\n",
              "  </style>\n",
              "\n",
              "    <script>\n",
              "      const buttonEl =\n",
              "        document.querySelector('#df-5699a6ac-17f1-4345-b39d-22f0bc2a39f3 button.colab-df-convert');\n",
              "      buttonEl.style.display =\n",
              "        google.colab.kernel.accessAllowed ? 'block' : 'none';\n",
              "\n",
              "      async function convertToInteractive(key) {\n",
              "        const element = document.querySelector('#df-5699a6ac-17f1-4345-b39d-22f0bc2a39f3');\n",
              "        const dataTable =\n",
              "          await google.colab.kernel.invokeFunction('convertToInteractive',\n",
              "                                                    [key], {});\n",
              "        if (!dataTable) return;\n",
              "\n",
              "        const docLinkHtml = 'Like what you see? Visit the ' +\n",
              "          '<a target=\"_blank\" href=https://colab.research.google.com/notebooks/data_table.ipynb>data table notebook</a>'\n",
              "          + ' to learn more about interactive tables.';\n",
              "        element.innerHTML = '';\n",
              "        dataTable['output_type'] = 'display_data';\n",
              "        await google.colab.output.renderOutput(dataTable, element);\n",
              "        const docLink = document.createElement('div');\n",
              "        docLink.innerHTML = docLinkHtml;\n",
              "        element.appendChild(docLink);\n",
              "      }\n",
              "    </script>\n",
              "  </div>\n",
              "\n",
              "\n",
              "<div id=\"df-d9cdadb2-78cf-4dd3-9b8f-7589f132ce3f\">\n",
              "  <button class=\"colab-df-quickchart\" onclick=\"quickchart('df-d9cdadb2-78cf-4dd3-9b8f-7589f132ce3f')\"\n",
              "            title=\"Suggest charts\"\n",
              "            style=\"display:none;\">\n",
              "\n",
              "<svg xmlns=\"http://www.w3.org/2000/svg\" height=\"24px\"viewBox=\"0 0 24 24\"\n",
              "     width=\"24px\">\n",
              "    <g>\n",
              "        <path d=\"M19 3H5c-1.1 0-2 .9-2 2v14c0 1.1.9 2 2 2h14c1.1 0 2-.9 2-2V5c0-1.1-.9-2-2-2zM9 17H7v-7h2v7zm4 0h-2V7h2v10zm4 0h-2v-4h2v4z\"/>\n",
              "    </g>\n",
              "</svg>\n",
              "  </button>\n",
              "\n",
              "<style>\n",
              "  .colab-df-quickchart {\n",
              "      --bg-color: #E8F0FE;\n",
              "      --fill-color: #1967D2;\n",
              "      --hover-bg-color: #E2EBFA;\n",
              "      --hover-fill-color: #174EA6;\n",
              "      --disabled-fill-color: #AAA;\n",
              "      --disabled-bg-color: #DDD;\n",
              "  }\n",
              "\n",
              "  [theme=dark] .colab-df-quickchart {\n",
              "      --bg-color: #3B4455;\n",
              "      --fill-color: #D2E3FC;\n",
              "      --hover-bg-color: #434B5C;\n",
              "      --hover-fill-color: #FFFFFF;\n",
              "      --disabled-bg-color: #3B4455;\n",
              "      --disabled-fill-color: #666;\n",
              "  }\n",
              "\n",
              "  .colab-df-quickchart {\n",
              "    background-color: var(--bg-color);\n",
              "    border: none;\n",
              "    border-radius: 50%;\n",
              "    cursor: pointer;\n",
              "    display: none;\n",
              "    fill: var(--fill-color);\n",
              "    height: 32px;\n",
              "    padding: 0;\n",
              "    width: 32px;\n",
              "  }\n",
              "\n",
              "  .colab-df-quickchart:hover {\n",
              "    background-color: var(--hover-bg-color);\n",
              "    box-shadow: 0 1px 2px rgba(60, 64, 67, 0.3), 0 1px 3px 1px rgba(60, 64, 67, 0.15);\n",
              "    fill: var(--button-hover-fill-color);\n",
              "  }\n",
              "\n",
              "  .colab-df-quickchart-complete:disabled,\n",
              "  .colab-df-quickchart-complete:disabled:hover {\n",
              "    background-color: var(--disabled-bg-color);\n",
              "    fill: var(--disabled-fill-color);\n",
              "    box-shadow: none;\n",
              "  }\n",
              "\n",
              "  .colab-df-spinner {\n",
              "    border: 2px solid var(--fill-color);\n",
              "    border-color: transparent;\n",
              "    border-bottom-color: var(--fill-color);\n",
              "    animation:\n",
              "      spin 1s steps(1) infinite;\n",
              "  }\n",
              "\n",
              "  @keyframes spin {\n",
              "    0% {\n",
              "      border-color: transparent;\n",
              "      border-bottom-color: var(--fill-color);\n",
              "      border-left-color: var(--fill-color);\n",
              "    }\n",
              "    20% {\n",
              "      border-color: transparent;\n",
              "      border-left-color: var(--fill-color);\n",
              "      border-top-color: var(--fill-color);\n",
              "    }\n",
              "    30% {\n",
              "      border-color: transparent;\n",
              "      border-left-color: var(--fill-color);\n",
              "      border-top-color: var(--fill-color);\n",
              "      border-right-color: var(--fill-color);\n",
              "    }\n",
              "    40% {\n",
              "      border-color: transparent;\n",
              "      border-right-color: var(--fill-color);\n",
              "      border-top-color: var(--fill-color);\n",
              "    }\n",
              "    60% {\n",
              "      border-color: transparent;\n",
              "      border-right-color: var(--fill-color);\n",
              "    }\n",
              "    80% {\n",
              "      border-color: transparent;\n",
              "      border-right-color: var(--fill-color);\n",
              "      border-bottom-color: var(--fill-color);\n",
              "    }\n",
              "    90% {\n",
              "      border-color: transparent;\n",
              "      border-bottom-color: var(--fill-color);\n",
              "    }\n",
              "  }\n",
              "</style>\n",
              "\n",
              "  <script>\n",
              "    async function quickchart(key) {\n",
              "      const quickchartButtonEl =\n",
              "        document.querySelector('#' + key + ' button');\n",
              "      quickchartButtonEl.disabled = true;  // To prevent multiple clicks.\n",
              "      quickchartButtonEl.classList.add('colab-df-spinner');\n",
              "      try {\n",
              "        const charts = await google.colab.kernel.invokeFunction(\n",
              "            'suggestCharts', [key], {});\n",
              "      } catch (error) {\n",
              "        console.error('Error during call to suggestCharts:', error);\n",
              "      }\n",
              "      quickchartButtonEl.classList.remove('colab-df-spinner');\n",
              "      quickchartButtonEl.classList.add('colab-df-quickchart-complete');\n",
              "    }\n",
              "    (() => {\n",
              "      let quickchartButtonEl =\n",
              "        document.querySelector('#df-d9cdadb2-78cf-4dd3-9b8f-7589f132ce3f button');\n",
              "      quickchartButtonEl.style.display =\n",
              "        google.colab.kernel.accessAllowed ? 'block' : 'none';\n",
              "    })();\n",
              "  </script>\n",
              "</div>\n",
              "\n",
              "    </div>\n",
              "  </div>\n"
            ],
            "application/vnd.google.colaboratory.intrinsic+json": {
              "type": "dataframe",
              "variable_name": "df",
              "summary": "{\n  \"name\": \"df\",\n  \"rows\": 498,\n  \"fields\": [\n    {\n      \"column\": \"gend\",\n      \"properties\": {\n        \"dtype\": \"number\",\n        \"std\": 0,\n        \"min\": 0,\n        \"max\": 1,\n        \"num_unique_values\": 2,\n        \"samples\": [\n          0,\n          1\n        ],\n        \"semantic_type\": \"\",\n        \"description\": \"\"\n      }\n    },\n    {\n      \"column\": \"age\",\n      \"properties\": {\n        \"dtype\": \"number\",\n        \"std\": 6,\n        \"min\": 14,\n        \"max\": 61,\n        \"num_unique_values\": 35,\n        \"samples\": [\n          40,\n          39\n        ],\n        \"semantic_type\": \"\",\n        \"description\": \"\"\n      }\n    },\n    {\n      \"column\": \"height\",\n      \"properties\": {\n        \"dtype\": \"number\",\n        \"std\": 0.09765349549762498,\n        \"min\": 1.45,\n        \"max\": 1.98,\n        \"num_unique_values\": 47,\n        \"samples\": [\n          1.63,\n          1.48\n        ],\n        \"semantic_type\": \"\",\n        \"description\": \"\"\n      }\n    },\n    {\n      \"column\": \"weight\",\n      \"properties\": {\n        \"dtype\": \"number\",\n        \"std\": 17.01322649115617,\n        \"min\": 39.0,\n        \"max\": 173.0,\n        \"num_unique_values\": 91,\n        \"samples\": [\n          85.5,\n          90.0\n        ],\n        \"semantic_type\": \"\",\n        \"description\": \"\"\n      }\n    },\n    {\n      \"column\": \"famhist\",\n      \"properties\": {\n        \"dtype\": \"number\",\n        \"std\": 0,\n        \"min\": 0,\n        \"max\": 1,\n        \"num_unique_values\": 2,\n        \"samples\": [\n          0,\n          1\n        ],\n        \"semantic_type\": \"\",\n        \"description\": \"\"\n      }\n    },\n    {\n      \"column\": \"calH\",\n      \"properties\": {\n        \"dtype\": \"number\",\n        \"std\": 0,\n        \"min\": 0,\n        \"max\": 1,\n        \"num_unique_values\": 2,\n        \"samples\": [\n          1,\n          0\n        ],\n        \"semantic_type\": \"\",\n        \"description\": \"\"\n      }\n    },\n    {\n      \"column\": \"veg\",\n      \"properties\": {\n        \"dtype\": \"number\",\n        \"std\": 0,\n        \"min\": 0,\n        \"max\": 2,\n        \"num_unique_values\": 3,\n        \"samples\": [\n          1,\n          2\n        ],\n        \"semantic_type\": \"\",\n        \"description\": \"\"\n      }\n    },\n    {\n      \"column\": \"meals\",\n      \"properties\": {\n        \"dtype\": \"number\",\n        \"std\": 0,\n        \"min\": 1,\n        \"max\": 4,\n        \"num_unique_values\": 3,\n        \"samples\": [\n          3,\n          1\n        ],\n        \"semantic_type\": \"\",\n        \"description\": \"\"\n      }\n    },\n    {\n      \"column\": \"snacks\",\n      \"properties\": {\n        \"dtype\": \"number\",\n        \"std\": 0,\n        \"min\": 0,\n        \"max\": 3,\n        \"num_unique_values\": 4,\n        \"samples\": [\n          2,\n          0\n        ],\n        \"semantic_type\": \"\",\n        \"description\": \"\"\n      }\n    },\n    {\n      \"column\": \"smoke\",\n      \"properties\": {\n        \"dtype\": \"number\",\n        \"std\": 0,\n        \"min\": 0,\n        \"max\": 1,\n        \"num_unique_values\": 2,\n        \"samples\": [\n          1,\n          0\n        ],\n        \"semantic_type\": \"\",\n        \"description\": \"\"\n      }\n    },\n    {\n      \"column\": \"water\",\n      \"properties\": {\n        \"dtype\": \"number\",\n        \"std\": 0,\n        \"min\": 1,\n        \"max\": 3,\n        \"num_unique_values\": 3,\n        \"samples\": [\n          2,\n          3\n        ],\n        \"semantic_type\": \"\",\n        \"description\": \"\"\n      }\n    },\n    {\n      \"column\": \"calM\",\n      \"properties\": {\n        \"dtype\": \"number\",\n        \"std\": 0,\n        \"min\": 0,\n        \"max\": 1,\n        \"num_unique_values\": 2,\n        \"samples\": [\n          1,\n          0\n        ],\n        \"semantic_type\": \"\",\n        \"description\": \"\"\n      }\n    },\n    {\n      \"column\": \"phys\",\n      \"properties\": {\n        \"dtype\": \"number\",\n        \"std\": 1,\n        \"min\": 0,\n        \"max\": 3,\n        \"num_unique_values\": 4,\n        \"samples\": [\n          3,\n          1\n        ],\n        \"semantic_type\": \"\",\n        \"description\": \"\"\n      }\n    },\n    {\n      \"column\": \"tech\",\n      \"properties\": {\n        \"dtype\": \"number\",\n        \"std\": 0,\n        \"min\": 0,\n        \"max\": 2,\n        \"num_unique_values\": 3,\n        \"samples\": [\n          1,\n          0\n        ],\n        \"semantic_type\": \"\",\n        \"description\": \"\"\n      }\n    },\n    {\n      \"column\": \"alc\",\n      \"properties\": {\n        \"dtype\": \"number\",\n        \"std\": 0,\n        \"min\": 0,\n        \"max\": 3,\n        \"num_unique_values\": 4,\n        \"samples\": [\n          1,\n          3\n        ],\n        \"semantic_type\": \"\",\n        \"description\": \"\"\n      }\n    },\n    {\n      \"column\": \"trans\",\n      \"properties\": {\n        \"dtype\": \"number\",\n        \"std\": 1,\n        \"min\": 1,\n        \"max\": 5,\n        \"num_unique_values\": 5,\n        \"samples\": [\n          5,\n          3\n        ],\n        \"semantic_type\": \"\",\n        \"description\": \"\"\n      }\n    },\n    {\n      \"column\": \"obese\",\n      \"properties\": {\n        \"dtype\": \"number\",\n        \"std\": 1,\n        \"min\": 1,\n        \"max\": 7,\n        \"num_unique_values\": 7,\n        \"samples\": [\n          2,\n          3\n        ],\n        \"semantic_type\": \"\",\n        \"description\": \"\"\n      }\n    }\n  ]\n}"
            }
          },
          "metadata": {},
          "execution_count": 6
        }
      ],
      "source": [
        "df.head()"
      ]
    },
    {
      "cell_type": "code",
      "execution_count": 8,
      "id": "58901fc6-a697-47bc-a051-433f86843a2a",
      "metadata": {
        "id": "58901fc6-a697-47bc-a051-433f86843a2a",
        "outputId": "3203f5c8-d3e6-4ac5-b7e9-b2f8fcefd40e",
        "colab": {
          "base_uri": "https://localhost:8080/"
        }
      },
      "outputs": [
        {
          "output_type": "execute_result",
          "data": {
            "text/plain": [
              "498"
            ]
          },
          "metadata": {},
          "execution_count": 8
        }
      ],
      "source": [
        "len(df)"
      ]
    },
    {
      "cell_type": "code",
      "execution_count": 9,
      "id": "de6a5787-23a1-4e8d-a493-0e2391c0339c",
      "metadata": {
        "id": "de6a5787-23a1-4e8d-a493-0e2391c0339c",
        "outputId": "fcfb74f0-8127-4c00-e3be-ce3e83e4f032",
        "colab": {
          "base_uri": "https://localhost:8080/"
        }
      },
      "outputs": [
        {
          "output_type": "stream",
          "name": "stdout",
          "text": [
            "obese\n",
            "2    287\n",
            "3     58\n",
            "4     58\n",
            "5     47\n",
            "1     34\n",
            "6     11\n",
            "7      3\n",
            "Name: count, dtype: int64\n"
          ]
        }
      ],
      "source": [
        "ydist=df['obese'].value_counts(dropna=True)\n",
        "print(ydist)"
      ]
    },
    {
      "cell_type": "code",
      "execution_count": 10,
      "id": "7851e6d2-dc54-454f-a304-e4a666787017",
      "metadata": {
        "id": "7851e6d2-dc54-454f-a304-e4a666787017",
        "outputId": "13bbdc87-3b47-4927-81a4-bc19f9fc4584",
        "colab": {
          "base_uri": "https://localhost:8080/",
          "height": 558
        }
      },
      "outputs": [
        {
          "output_type": "stream",
          "name": "stderr",
          "text": [
            "<ipython-input-10-b1eecde8516e>:2: FutureWarning: \n",
            "\n",
            "Passing `palette` without assigning `hue` is deprecated and will be removed in v0.14.0. Assign the `x` variable to `hue` and set `legend=False` for the same effect.\n",
            "\n",
            "  sns.countplot(x='obese', data=df, palette=\"Dark2\")\n"
          ]
        },
        {
          "output_type": "display_data",
          "data": {
            "text/plain": [
              "<Figure size 600x400 with 1 Axes>"
            ],
            "image/png": "[encoded data removed]"
          },
          "metadata": {}
        }
      ],
      "source": [
        "plt.figure(figsize=(6,4))\n",
        "sns.countplot(x='obese', data=df, palette=\"Dark2\")\n",
        "plt.title(\"Unbalanced Distribution of Classes\")\n",
        "plt.xlabel(\"Classes\")\n",
        "plt.ylabel(\"Frequency\")\n",
        "plt.legend(title=\"\", labels=[\"1: Under\", \"2: Normal\", \"3: Overweight1\", \"4: Overweight2\", \"5: Obese1\", \"6: Obese2\", \"7: Obese3\"], loc='upper center', bbox_to_anchor=(0.5, -0.15), ncol=4)\n",
        "plt.show()"
      ]
    },
    {
      "cell_type": "markdown",
      "id": "0b9bf412-5238-4165-9ce7-2df3a76de896",
      "metadata": {
        "id": "0b9bf412-5238-4165-9ce7-2df3a76de896"
      },
      "source": [
        "# <span style=\"color:violet\">**Method 1 to balance the data: Synthetic Minority Oversampling (SMOTE)**</span>"
      ]
    },
    {
      "cell_type": "code",
      "execution_count": 13,
      "id": "a5bc6045-086f-47f6-b86b-841e3db3409b",
      "metadata": {
        "id": "a5bc6045-086f-47f6-b86b-841e3db3409b"
      },
      "outputs": [],
      "source": [
        "# Separate depend & indep vars\n",
        "X_ub=df.drop('obese',axis=1)\n",
        "X_ub=pd.DataFrame(X_ub)\n",
        "y_ub=df['obese']\n",
        "X_ub=X_ub.apply(pd.to_numeric, errors='coerce')\n",
        "y_ub=pd.to_numeric(y_ub, errors='coerce')\n",
        "\n",
        "# SMOTE\n",
        "ss={\n",
        "    1: 34*3,\n",
        "    2: 287,\n",
        "    3: 58*3,\n",
        "    4: 58*3,\n",
        "    5: 47*3,\n",
        "    6: 11*3,\n",
        "    7: 3*3\n",
        "}\n",
        "smote=SMOTE(sampling_strategy=ss, random_state=666, k_neighbors=2)\n",
        "xbal, ybal = smote.fit_resample(X_ub,y_ub)\n",
        "\n",
        "# Create df with new observations\n",
        "db=pd.DataFrame(xbal, columns=X_ub.columns)\n",
        "db['obese']=ybal\n",
        "db.to_csv('obesity.bal.csv', index=False)"
      ]
    },
    {
      "cell_type": "markdown",
      "source": [
        "# <span style=\"color:violet\">**Method 2 to balance the data: Class weights**</span>"
      ],
      "metadata": {
        "id": "jkqQn4BOd9Hp"
      },
      "id": "jkqQn4BOd9Hp"
    },
    {
      "cell_type": "code",
      "source": [
        "# Separate depend & indep vars\n",
        "X_w = df.drop('obese', axis=1)\n",
        "X_w = pd.DataFrame(X_w)\n",
        "y_w = df['obese']\n",
        "X_w = X_w.apply(pd.to_numeric, errors='coerce')\n",
        "y_w = pd.to_numeric(y_w, errors='coerce')\n",
        "\n",
        "# Calculate class weights\n",
        "class_weights = compute_class_weight('balanced', classes=y_w.unique(), y=y_w)\n",
        "class_weight_dict = dict(zip(y_w.unique(), class_weights))\n",
        "print(f\"Class weights: {class_weight_dict}\")\n"
      ],
      "metadata": {
        "colab": {
          "base_uri": "https://localhost:8080/"
        },
        "id": "litVSE9odx-x",
        "outputId": "3fbe9535-6601-4891-ff9d-a3aabcaaf3c5"
      },
      "id": "litVSE9odx-x",
      "execution_count": 17,
      "outputs": [
        {
          "output_type": "stream",
          "name": "stdout",
          "text": [
            "Class weights: {np.int64(2): np.float64(0.24788451966152314), np.int64(3): np.float64(1.2266009852216748), np.int64(4): np.float64(1.2266009852216748), np.int64(5): np.float64(1.513677811550152), np.int64(1): np.float64(2.092436974789916), np.int64(6): np.float64(6.467532467532467), np.int64(7): np.float64(23.714285714285715)}\n"
          ]
        }
      ]
    },
    {
      "cell_type": "markdown",
      "id": "46f282f4-7c9f-46f4-bb31-c8db0141cc99",
      "metadata": {
        "id": "46f282f4-7c9f-46f4-bb31-c8db0141cc99"
      },
      "source": [
        "# <span style=\"color:violet\">**Exploratory Data Analysis II**</span>"
      ]
    },
    {
      "cell_type": "code",
      "execution_count": 18,
      "id": "19744b7f-4072-4a32-b7b9-f8da3d9d584f",
      "metadata": {
        "id": "19744b7f-4072-4a32-b7b9-f8da3d9d584f"
      },
      "outputs": [],
      "source": [
        "ds=pd.read_csv(\"obesity.bal.csv\")"
      ]
    },
    {
      "cell_type": "code",
      "execution_count": 19,
      "id": "b4a3aaff-189d-481e-8355-052cc002c3e0",
      "metadata": {
        "id": "b4a3aaff-189d-481e-8355-052cc002c3e0",
        "outputId": "c6332adc-a93d-4c4f-8e2b-ef43f1851868",
        "colab": {
          "base_uri": "https://localhost:8080/",
          "height": 206
        }
      },
      "outputs": [
        {
          "output_type": "execute_result",
          "data": {
            "text/plain": [
              "   gend  age  height  weight  famhist  calH  veg  meals  snacks  smoke  water  \\\n",
              "0     1   21    1.62    64.0        1     0    1      3       1      0      2   \n",
              "1     1   21    1.52    56.0        1     0    2      3       1      1      3   \n",
              "2     0   23    1.80    77.0        1     0    1      3       1      0      2   \n",
              "3     0   27    1.80    87.0        0     0    2      3       1      0      2   \n",
              "4     0   22    1.78    89.8        0     0    1      1       1      0      2   \n",
              "\n",
              "   calM  phys  tech  alc  trans  obese  \n",
              "0     0     0     1    0      4      2  \n",
              "1     1     3     0    1      4      2  \n",
              "2     0     2     1    2      4      2  \n",
              "3     0     2     0    2      5      3  \n",
              "4     0     0     0    1      4      4  "
            ],
            "text/html": [
              "\n",
              "  <div id=\"df-06135b8d-1f1a-4a3d-a453-3f0b7031da31\" class=\"colab-df-container\">\n",
              "    <div>\n",
              "<style scoped>\n",
              "    .dataframe tbody tr th:only-of-type {\n",
              "        vertical-align: middle;\n",
              "    }\n",
              "\n",
              "    .dataframe tbody tr th {\n",
              "        vertical-align: top;\n",
              "    }\n",
              "\n",
              "    .dataframe thead th {\n",
              "        text-align: right;\n",
              "    }\n",
              "</style>\n",
              "<table border=\"1\" class=\"dataframe\">\n",
              "  <thead>\n",
              "    <tr style=\"text-align: right;\">\n",
              "      <th></th>\n",
              "      <th>gend</th>\n",
              "      <th>age</th>\n",
              "      <th>height</th>\n",
              "      <th>weight</th>\n",
              "      <th>famhist</th>\n",
              "      <th>calH</th>\n",
              "      <th>veg</th>\n",
              "      <th>meals</th>\n",
              "      <th>snacks</th>\n",
              "      <th>smoke</th>\n",
              "      <th>water</th>\n",
              "      <th>calM</th>\n",
              "      <th>phys</th>\n",
              "      <th>tech</th>\n",
              "      <th>alc</th>\n",
              "      <th>trans</th>\n",
              "      <th>obese</th>\n",
              "    </tr>\n",
              "  </thead>\n",
              "  <tbody>\n",
              "    <tr>\n",
              "      <th>0</th>\n",
              "      <td>1</td>\n",
              "      <td>21</td>\n",
              "      <td>1.62</td>\n",
              "      <td>64.0</td>\n",
              "      <td>1</td>\n",
              "      <td>0</td>\n",
              "      <td>1</td>\n",
              "      <td>3</td>\n",
              "      <td>1</td>\n",
              "      <td>0</td>\n",
              "      <td>2</td>\n",
              "      <td>0</td>\n",
              "      <td>0</td>\n",
              "      <td>1</td>\n",
              "      <td>0</td>\n",
              "      <td>4</td>\n",
              "      <td>2</td>\n",
              "    </tr>\n",
              "    <tr>\n",
              "      <th>1</th>\n",
              "      <td>1</td>\n",
              "      <td>21</td>\n",
              "      <td>1.52</td>\n",
              "      <td>56.0</td>\n",
              "      <td>1</td>\n",
              "      <td>0</td>\n",
              "      <td>2</td>\n",
              "      <td>3</td>\n",
              "      <td>1</td>\n",
              "      <td>1</td>\n",
              "      <td>3</td>\n",
              "      <td>1</td>\n",
              "      <td>3</td>\n",
              "      <td>0</td>\n",
              "      <td>1</td>\n",
              "      <td>4</td>\n",
              "      <td>2</td>\n",
              "    </tr>\n",
              "    <tr>\n",
              "      <th>2</th>\n",
              "      <td>0</td>\n",
              "      <td>23</td>\n",
              "      <td>1.80</td>\n",
              "      <td>77.0</td>\n",
              "      <td>1</td>\n",
              "      <td>0</td>\n",
              "      <td>1</td>\n",
              "      <td>3</td>\n",
              "      <td>1</td>\n",
              "      <td>0</td>\n",
              "      <td>2</td>\n",
              "      <td>0</td>\n",
              "      <td>2</td>\n",
              "      <td>1</td>\n",
              "      <td>2</td>\n",
              "      <td>4</td>\n",
              "      <td>2</td>\n",
              "    </tr>\n",
              "    <tr>\n",
              "      <th>3</th>\n",
              "      <td>0</td>\n",
              "      <td>27</td>\n",
              "      <td>1.80</td>\n",
              "      <td>87.0</td>\n",
              "      <td>0</td>\n",
              "      <td>0</td>\n",
              "      <td>2</td>\n",
              "      <td>3</td>\n",
              "      <td>1</td>\n",
              "      <td>0</td>\n",
              "      <td>2</td>\n",
              "      <td>0</td>\n",
              "      <td>2</td>\n",
              "      <td>0</td>\n",
              "      <td>2</td>\n",
              "      <td>5</td>\n",
              "      <td>3</td>\n",
              "    </tr>\n",
              "    <tr>\n",
              "      <th>4</th>\n",
              "      <td>0</td>\n",
              "      <td>22</td>\n",
              "      <td>1.78</td>\n",
              "      <td>89.8</td>\n",
              "      <td>0</td>\n",
              "      <td>0</td>\n",
              "      <td>1</td>\n",
              "      <td>1</td>\n",
              "      <td>1</td>\n",
              "      <td>0</td>\n",
              "      <td>2</td>\n",
              "      <td>0</td>\n",
              "      <td>0</td>\n",
              "      <td>0</td>\n",
              "      <td>1</td>\n",
              "      <td>4</td>\n",
              "      <td>4</td>\n",
              "    </tr>\n",
              "  </tbody>\n",
              "</table>\n",
              "</div>\n",
              "    <div class=\"colab-df-buttons\">\n",
              "\n",
              "  <div class=\"colab-df-container\">\n",
              "    <button class=\"colab-df-convert\" onclick=\"convertToInteractive('df-06135b8d-1f1a-4a3d-a453-3f0b7031da31')\"\n",
              "            title=\"Convert this dataframe to an interactive table.\"\n",
              "            style=\"display:none;\">\n",
              "\n",
              "  <svg xmlns=\"http://www.w3.org/2000/svg\" height=\"24px\" viewBox=\"0 -960 960 960\">\n",
              "    <path d=\"M120-120v-720h720v720H120Zm60-500h600v-160H180v160Zm220 220h160v-160H400v160Zm0 220h160v-160H400v160ZM180-400h160v-160H180v160Zm440 0h160v-160H620v160ZM180-180h160v-160H180v160Zm440 0h160v-160H620v160Z\"/>\n",
              "  </svg>\n",
              "    </button>\n",
              "\n",
              "  <style>\n",
              "    .colab-df-container {\n",
              "      display:flex;\n",
              "      gap: 12px;\n",
              "    }\n",
              "\n",
              "    .colab-df-convert {\n",
              "      background-color: #E8F0FE;\n",
              "      border: none;\n",
              "      border-radius: 50%;\n",
              "      cursor: pointer;\n",
              "      display: none;\n",
              "      fill: #1967D2;\n",
              "      height: 32px;\n",
              "      padding: 0 0 0 0;\n",
              "      width: 32px;\n",
              "    }\n",
              "\n",
              "    .colab-df-convert:hover {\n",
              "      background-color: #E2EBFA;\n",
              "      box-shadow: 0px 1px 2px rgba(60, 64, 67, 0.3), 0px 1px 3px 1px rgba(60, 64, 67, 0.15);\n",
              "      fill: #174EA6;\n",
              "    }\n",
              "\n",
              "    .colab-df-buttons div {\n",
              "      margin-bottom: 4px;\n",
              "    }\n",
              "\n",
              "    [theme=dark] .colab-df-convert {\n",
              "      background-color: #3B4455;\n",
              "      fill: #D2E3FC;\n",
              "    }\n",
              "\n",
              "    [theme=dark] .colab-df-convert:hover {\n",
              "      background-color: #434B5C;\n",
              "      box-shadow: 0px 1px 3px 1px rgba(0, 0, 0, 0.15);\n",
              "      filter: drop-shadow(0px 1px 2px rgba(0, 0, 0, 0.3));\n",
              "      fill: #FFFFFF;\n",
              "    }\n",
              "  </style>\n",
              "\n",
              "    <script>\n",
              "      const buttonEl =\n",
              "        document.querySelector('#df-06135b8d-1f1a-4a3d-a453-3f0b7031da31 button.colab-df-convert');\n",
              "      buttonEl.style.display =\n",
              "        google.colab.kernel.accessAllowed ? 'block' : 'none';\n",
              "\n",
              "      async function convertToInteractive(key) {\n",
              "        const element = document.querySelector('#df-06135b8d-1f1a-4a3d-a453-3f0b7031da31');\n",
              "        const dataTable =\n",
              "          await google.colab.kernel.invokeFunction('convertToInteractive',\n",
              "                                                    [key], {});\n",
              "        if (!dataTable) return;\n",
              "\n",
              "        const docLinkHtml = 'Like what you see? Visit the ' +\n",
              "          '<a target=\"_blank\" href=https://colab.research.google.com/notebooks/data_table.ipynb>data table notebook</a>'\n",
              "          + ' to learn more about interactive tables.';\n",
              "        element.innerHTML = '';\n",
              "        dataTable['output_type'] = 'display_data';\n",
              "        await google.colab.output.renderOutput(dataTable, element);\n",
              "        const docLink = document.createElement('div');\n",
              "        docLink.innerHTML = docLinkHtml;\n",
              "        element.appendChild(docLink);\n",
              "      }\n",
              "    </script>\n",
              "  </div>\n",
              "\n",
              "\n",
              "<div id=\"df-7e9e0b56-4db9-4b01-b781-203b91224bd2\">\n",
              "  <button class=\"colab-df-quickchart\" onclick=\"quickchart('df-7e9e0b56-4db9-4b01-b781-203b91224bd2')\"\n",
              "            title=\"Suggest charts\"\n",
              "            style=\"display:none;\">\n",
              "\n",
              "<svg xmlns=\"http://www.w3.org/2000/svg\" height=\"24px\"viewBox=\"0 0 24 24\"\n",
              "     width=\"24px\">\n",
              "    <g>\n",
              "        <path d=\"M19 3H5c-1.1 0-2 .9-2 2v14c0 1.1.9 2 2 2h14c1.1 0 2-.9 2-2V5c0-1.1-.9-2-2-2zM9 17H7v-7h2v7zm4 0h-2V7h2v10zm4 0h-2v-4h2v4z\"/>\n",
              "    </g>\n",
              "</svg>\n",
              "  </button>\n",
              "\n",
              "<style>\n",
              "  .colab-df-quickchart {\n",
              "      --bg-color: #E8F0FE;\n",
              "      --fill-color: #1967D2;\n",
              "      --hover-bg-color: #E2EBFA;\n",
              "      --hover-fill-color: #174EA6;\n",
              "      --disabled-fill-color: #AAA;\n",
              "      --disabled-bg-color: #DDD;\n",
              "  }\n",
              "\n",
              "  [theme=dark] .colab-df-quickchart {\n",
              "      --bg-color: #3B4455;\n",
              "      --fill-color: #D2E3FC;\n",
              "      --hover-bg-color: #434B5C;\n",
              "      --hover-fill-color: #FFFFFF;\n",
              "      --disabled-bg-color: #3B4455;\n",
              "      --disabled-fill-color: #666;\n",
              "  }\n",
              "\n",
              "  .colab-df-quickchart {\n",
              "    background-color: var(--bg-color);\n",
              "    border: none;\n",
              "    border-radius: 50%;\n",
              "    cursor: pointer;\n",
              "    display: none;\n",
              "    fill: var(--fill-color);\n",
              "    height: 32px;\n",
              "    padding: 0;\n",
              "    width: 32px;\n",
              "  }\n",
              "\n",
              "  .colab-df-quickchart:hover {\n",
              "    background-color: var(--hover-bg-color);\n",
              "    box-shadow: 0 1px 2px rgba(60, 64, 67, 0.3), 0 1px 3px 1px rgba(60, 64, 67, 0.15);\n",
              "    fill: var(--button-hover-fill-color);\n",
              "  }\n",
              "\n",
              "  .colab-df-quickchart-complete:disabled,\n",
              "  .colab-df-quickchart-complete:disabled:hover {\n",
              "    background-color: var(--disabled-bg-color);\n",
              "    fill: var(--disabled-fill-color);\n",
              "    box-shadow: none;\n",
              "  }\n",
              "\n",
              "  .colab-df-spinner {\n",
              "    border: 2px solid var(--fill-color);\n",
              "    border-color: transparent;\n",
              "    border-bottom-color: var(--fill-color);\n",
              "    animation:\n",
              "      spin 1s steps(1) infinite;\n",
              "  }\n",
              "\n",
              "  @keyframes spin {\n",
              "    0% {\n",
              "      border-color: transparent;\n",
              "      border-bottom-color: var(--fill-color);\n",
              "      border-left-color: var(--fill-color);\n",
              "    }\n",
              "    20% {\n",
              "      border-color: transparent;\n",
              "      border-left-color: var(--fill-color);\n",
              "      border-top-color: var(--fill-color);\n",
              "    }\n",
              "    30% {\n",
              "      border-color: transparent;\n",
              "      border-left-color: var(--fill-color);\n",
              "      border-top-color: var(--fill-color);\n",
              "      border-right-color: var(--fill-color);\n",
              "    }\n",
              "    40% {\n",
              "      border-color: transparent;\n",
              "      border-right-color: var(--fill-color);\n",
              "      border-top-color: var(--fill-color);\n",
              "    }\n",
              "    60% {\n",
              "      border-color: transparent;\n",
              "      border-right-color: var(--fill-color);\n",
              "    }\n",
              "    80% {\n",
              "      border-color: transparent;\n",
              "      border-right-color: var(--fill-color);\n",
              "      border-bottom-color: var(--fill-color);\n",
              "    }\n",
              "    90% {\n",
              "      border-color: transparent;\n",
              "      border-bottom-color: var(--fill-color);\n",
              "    }\n",
              "  }\n",
              "</style>\n",
              "\n",
              "  <script>\n",
              "    async function quickchart(key) {\n",
              "      const quickchartButtonEl =\n",
              "        document.querySelector('#' + key + ' button');\n",
              "      quickchartButtonEl.disabled = true;  // To prevent multiple clicks.\n",
              "      quickchartButtonEl.classList.add('colab-df-spinner');\n",
              "      try {\n",
              "        const charts = await google.colab.kernel.invokeFunction(\n",
              "            'suggestCharts', [key], {});\n",
              "      } catch (error) {\n",
              "        console.error('Error during call to suggestCharts:', error);\n",
              "      }\n",
              "      quickchartButtonEl.classList.remove('colab-df-spinner');\n",
              "      quickchartButtonEl.classList.add('colab-df-quickchart-complete');\n",
              "    }\n",
              "    (() => {\n",
              "      let quickchartButtonEl =\n",
              "        document.querySelector('#df-7e9e0b56-4db9-4b01-b781-203b91224bd2 button');\n",
              "      quickchartButtonEl.style.display =\n",
              "        google.colab.kernel.accessAllowed ? 'block' : 'none';\n",
              "    })();\n",
              "  </script>\n",
              "</div>\n",
              "\n",
              "    </div>\n",
              "  </div>\n"
            ],
            "application/vnd.google.colaboratory.intrinsic+json": {
              "type": "dataframe",
              "variable_name": "ds",
              "summary": "{\n  \"name\": \"ds\",\n  \"rows\": 920,\n  \"fields\": [\n    {\n      \"column\": \"gend\",\n      \"properties\": {\n        \"dtype\": \"number\",\n        \"std\": 0,\n        \"min\": 0,\n        \"max\": 1,\n        \"num_unique_values\": 2,\n        \"samples\": [\n          0,\n          1\n        ],\n        \"semantic_type\": \"\",\n        \"description\": \"\"\n      }\n    },\n    {\n      \"column\": \"age\",\n      \"properties\": {\n        \"dtype\": \"number\",\n        \"std\": 6,\n        \"min\": 14,\n        \"max\": 61,\n        \"num_unique_values\": 39,\n        \"samples\": [\n          37,\n          49\n        ],\n        \"semantic_type\": \"\",\n        \"description\": \"\"\n      }\n    },\n    {\n      \"column\": \"height\",\n      \"properties\": {\n        \"dtype\": \"number\",\n        \"std\": 0.09586590523026682,\n        \"min\": 1.45,\n        \"max\": 1.98,\n        \"num_unique_values\": 404,\n        \"samples\": [\n          1.5276097770879973,\n          1.6747370664874337\n        ],\n        \"semantic_type\": \"\",\n        \"description\": \"\"\n      }\n    },\n    {\n      \"column\": \"weight\",\n      \"properties\": {\n        \"dtype\": \"number\",\n        \"std\": 18.840494517091095,\n        \"min\": 39.0,\n        \"max\": 173.0,\n        \"num_unique_values\": 381,\n        \"samples\": [\n          93.63601653588476,\n          69.86379076595388\n        ],\n        \"semantic_type\": \"\",\n        \"description\": \"\"\n      }\n    },\n    {\n      \"column\": \"famhist\",\n      \"properties\": {\n        \"dtype\": \"number\",\n        \"std\": 0,\n        \"min\": 0,\n        \"max\": 1,\n        \"num_unique_values\": 2,\n        \"samples\": [\n          0,\n          1\n        ],\n        \"semantic_type\": \"\",\n        \"description\": \"\"\n      }\n    },\n    {\n      \"column\": \"calH\",\n      \"properties\": {\n        \"dtype\": \"number\",\n        \"std\": 0,\n        \"min\": 0,\n        \"max\": 1,\n        \"num_unique_values\": 2,\n        \"samples\": [\n          1,\n          0\n        ],\n        \"semantic_type\": \"\",\n        \"description\": \"\"\n      }\n    },\n    {\n      \"column\": \"veg\",\n      \"properties\": {\n        \"dtype\": \"number\",\n        \"std\": 0,\n        \"min\": 0,\n        \"max\": 2,\n        \"num_unique_values\": 3,\n        \"samples\": [\n          1,\n          2\n        ],\n        \"semantic_type\": \"\",\n        \"description\": \"\"\n      }\n    },\n    {\n      \"column\": \"meals\",\n      \"properties\": {\n        \"dtype\": \"number\",\n        \"std\": 0,\n        \"min\": 1,\n        \"max\": 4,\n        \"num_unique_values\": 4,\n        \"samples\": [\n          1,\n          2\n        ],\n        \"semantic_type\": \"\",\n        \"description\": \"\"\n      }\n    },\n    {\n      \"column\": \"snacks\",\n      \"properties\": {\n        \"dtype\": \"number\",\n        \"std\": 0,\n        \"min\": 0,\n        \"max\": 3,\n        \"num_unique_values\": 4,\n        \"samples\": [\n          2,\n          0\n        ],\n        \"semantic_type\": \"\",\n        \"description\": \"\"\n      }\n    },\n    {\n      \"column\": \"smoke\",\n      \"properties\": {\n        \"dtype\": \"number\",\n        \"std\": 0,\n        \"min\": 0,\n        \"max\": 1,\n        \"num_unique_values\": 2,\n        \"samples\": [\n          1,\n          0\n        ],\n        \"semantic_type\": \"\",\n        \"description\": \"\"\n      }\n    },\n    {\n      \"column\": \"water\",\n      \"properties\": {\n        \"dtype\": \"number\",\n        \"std\": 0,\n        \"min\": 1,\n        \"max\": 3,\n        \"num_unique_values\": 3,\n        \"samples\": [\n          2,\n          3\n        ],\n        \"semantic_type\": \"\",\n        \"description\": \"\"\n      }\n    },\n    {\n      \"column\": \"calM\",\n      \"properties\": {\n        \"dtype\": \"number\",\n        \"std\": 0,\n        \"min\": 0,\n        \"max\": 1,\n        \"num_unique_values\": 2,\n        \"samples\": [\n          1,\n          0\n        ],\n        \"semantic_type\": \"\",\n        \"description\": \"\"\n      }\n    },\n    {\n      \"column\": \"phys\",\n      \"properties\": {\n        \"dtype\": \"number\",\n        \"std\": 0,\n        \"min\": 0,\n        \"max\": 3,\n        \"num_unique_values\": 4,\n        \"samples\": [\n          3,\n          1\n        ],\n        \"semantic_type\": \"\",\n        \"description\": \"\"\n      }\n    },\n    {\n      \"column\": \"tech\",\n      \"properties\": {\n        \"dtype\": \"number\",\n        \"std\": 0,\n        \"min\": 0,\n        \"max\": 2,\n        \"num_unique_values\": 3,\n        \"samples\": [\n          1,\n          0\n        ],\n        \"semantic_type\": \"\",\n        \"description\": \"\"\n      }\n    },\n    {\n      \"column\": \"alc\",\n      \"properties\": {\n        \"dtype\": \"number\",\n        \"std\": 0,\n        \"min\": 0,\n        \"max\": 3,\n        \"num_unique_values\": 4,\n        \"samples\": [\n          1,\n          3\n        ],\n        \"semantic_type\": \"\",\n        \"description\": \"\"\n      }\n    },\n    {\n      \"column\": \"trans\",\n      \"properties\": {\n        \"dtype\": \"number\",\n        \"std\": 1,\n        \"min\": 1,\n        \"max\": 5,\n        \"num_unique_values\": 5,\n        \"samples\": [\n          5,\n          3\n        ],\n        \"semantic_type\": \"\",\n        \"description\": \"\"\n      }\n    },\n    {\n      \"column\": \"obese\",\n      \"properties\": {\n        \"dtype\": \"number\",\n        \"std\": 1,\n        \"min\": 1,\n        \"max\": 7,\n        \"num_unique_values\": 7,\n        \"samples\": [\n          2,\n          3\n        ],\n        \"semantic_type\": \"\",\n        \"description\": \"\"\n      }\n    }\n  ]\n}"
            }
          },
          "metadata": {},
          "execution_count": 19
        }
      ],
      "source": [
        "ds.head()"
      ]
    },
    {
      "cell_type": "code",
      "execution_count": 20,
      "id": "21008ca6-2516-4504-98ea-3386f41365c0",
      "metadata": {
        "id": "21008ca6-2516-4504-98ea-3386f41365c0",
        "outputId": "609c1748-91f1-47ba-8e92-0ecfddd681aa",
        "colab": {
          "base_uri": "https://localhost:8080/"
        }
      },
      "outputs": [
        {
          "output_type": "execute_result",
          "data": {
            "text/plain": [
              "920"
            ]
          },
          "metadata": {},
          "execution_count": 20
        }
      ],
      "source": [
        "len(ds)"
      ]
    },
    {
      "cell_type": "code",
      "execution_count": 25,
      "id": "ce9e157a-3699-4d92-9c89-b1b944ae31eb",
      "metadata": {
        "id": "ce9e157a-3699-4d92-9c89-b1b944ae31eb",
        "outputId": "500249ca-96da-4994-bb60-236f753913d1",
        "colab": {
          "base_uri": "https://localhost:8080/",
          "height": 558
        }
      },
      "outputs": [
        {
          "output_type": "stream",
          "name": "stderr",
          "text": [
            "<ipython-input-25-38ffb5ce4438>:2: FutureWarning: \n",
            "\n",
            "Passing `palette` without assigning `hue` is deprecated and will be removed in v0.14.0. Assign the `x` variable to `hue` and set `legend=False` for the same effect.\n",
            "\n",
            "  sns.countplot(x='obese', data=ds, palette=\"Dark2\")\n"
          ]
        },
        {
          "output_type": "display_data",
          "data": {
            "text/plain": [
              "<Figure size 600x400 with 1 Axes>"
            ],
            "image/png": "[encoded data removed]"
          },
          "metadata": {}
        }
      ],
      "source": [
        "plt.figure(figsize=(6,4))\n",
        "sns.countplot(x='obese', data=ds, palette=\"Dark2\")\n",
        "plt.title(\"Balanced Distribution of Classes\")\n",
        "plt.xlabel(\"Classes\")\n",
        "plt.ylabel(\"Frequency\")\n",
        "plt.legend(title=\"\", labels=[\"1: Under\", \"2: Normal\", \"3: Overweight1\", \"4: Overweight2\", \"5: Obese1\", \"6: Obese2\", \"7: Obese3\"], loc='upper center', bbox_to_anchor=(0.5, -0.15), ncol=4)\n",
        "plt.show()"
      ]
    },
    {
      "cell_type": "code",
      "execution_count": 26,
      "id": "2e7cb773-aaf4-48fe-8262-01733a19a96f",
      "metadata": {
        "id": "2e7cb773-aaf4-48fe-8262-01733a19a96f",
        "outputId": "6eb7f1eb-f80d-479d-c55c-c41ed9b89b10",
        "colab": {
          "base_uri": "https://localhost:8080/",
          "height": 320
        }
      },
      "outputs": [
        {
          "output_type": "execute_result",
          "data": {
            "text/plain": [
              "             gend         age      height      weight     famhist        calH  \\\n",
              "count  920.000000  920.000000  920.000000  920.000000  920.000000  920.000000   \n",
              "mean     0.350000   23.550000    1.691498   74.134737    0.556522    0.582609   \n",
              "std      0.477229    6.918435    0.095866   18.840495    0.497065    0.493397   \n",
              "min      0.000000   14.000000    1.450000   39.000000    0.000000    0.000000   \n",
              "25%      0.000000   19.000000    1.620000   60.000000    0.000000    0.000000   \n",
              "50%      0.000000   21.000000    1.698358   75.000000    1.000000    1.000000   \n",
              "75%      1.000000   25.000000    1.760000   85.000000    1.000000    1.000000   \n",
              "max      1.000000   61.000000    1.980000  173.000000    1.000000    1.000000   \n",
              "\n",
              "              veg       meals      snacks       smoke       water        calM  \\\n",
              "count  920.000000  920.000000  920.000000  920.000000  920.000000  920.000000   \n",
              "mean     1.206522    2.523913    1.293478    0.034783    1.840217    0.065217   \n",
              "std      0.562484    0.909073    0.657062    0.183328    0.659337    0.247043   \n",
              "min      0.000000    1.000000    0.000000    0.000000    1.000000    0.000000   \n",
              "25%      1.000000    2.000000    1.000000    0.000000    1.000000    0.000000   \n",
              "50%      1.000000    3.000000    1.000000    0.000000    2.000000    0.000000   \n",
              "75%      2.000000    3.000000    2.000000    0.000000    2.000000    0.000000   \n",
              "max      2.000000    4.000000    3.000000    1.000000    3.000000    1.000000   \n",
              "\n",
              "             phys        tech         alc       trans       obese  \n",
              "count  920.000000  920.000000  920.000000  920.000000  920.000000  \n",
              "mean     0.955435    0.523913    0.659783    3.354348    3.108696  \n",
              "std      0.964649    0.675608    0.614047    1.271810    1.423849  \n",
              "min      0.000000    0.000000    0.000000    1.000000    1.000000  \n",
              "25%      0.000000    0.000000    0.000000    3.000000    2.000000  \n",
              "50%      1.000000    0.000000    1.000000    4.000000    3.000000  \n",
              "75%      2.000000    1.000000    1.000000    4.000000    4.000000  \n",
              "max      3.000000    2.000000    3.000000    5.000000    7.000000  "
            ],
            "text/html": [
              "\n",
              "  <div id=\"df-be4d9d8d-8210-4985-aba5-9608533c66f9\" class=\"colab-df-container\">\n",
              "    <div>\n",
              "<style scoped>\n",
              "    .dataframe tbody tr th:only-of-type {\n",
              "        vertical-align: middle;\n",
              "    }\n",
              "\n",
              "    .dataframe tbody tr th {\n",
              "        vertical-align: top;\n",
              "    }\n",
              "\n",
              "    .dataframe thead th {\n",
              "        text-align: right;\n",
              "    }\n",
              "</style>\n",
              "<table border=\"1\" class=\"dataframe\">\n",
              "  <thead>\n",
              "    <tr style=\"text-align: right;\">\n",
              "      <th></th>\n",
              "      <th>gend</th>\n",
              "      <th>age</th>\n",
              "      <th>height</th>\n",
              "      <th>weight</th>\n",
              "      <th>famhist</th>\n",
              "      <th>calH</th>\n",
              "      <th>veg</th>\n",
              "      <th>meals</th>\n",
              "      <th>snacks</th>\n",
              "      <th>smoke</th>\n",
              "      <th>water</th>\n",
              "      <th>calM</th>\n",
              "      <th>phys</th>\n",
              "      <th>tech</th>\n",
              "      <th>alc</th>\n",
              "      <th>trans</th>\n",
              "      <th>obese</th>\n",
              "    </tr>\n",
              "  </thead>\n",
              "  <tbody>\n",
              "    <tr>\n",
              "      <th>count</th>\n",
              "      <td>920.000000</td>\n",
              "      <td>920.000000</td>\n",
              "      <td>920.000000</td>\n",
              "      <td>920.000000</td>\n",
              "      <td>920.000000</td>\n",
              "      <td>920.000000</td>\n",
              "      <td>920.000000</td>\n",
              "      <td>920.000000</td>\n",
              "      <td>920.000000</td>\n",
              "      <td>920.000000</td>\n",
              "      <td>920.000000</td>\n",
              "      <td>920.000000</td>\n",
              "      <td>920.000000</td>\n",
              "      <td>920.000000</td>\n",
              "      <td>920.000000</td>\n",
              "      <td>920.000000</td>\n",
              "      <td>920.000000</td>\n",
              "    </tr>\n",
              "    <tr>\n",
              "      <th>mean</th>\n",
              "      <td>0.350000</td>\n",
              "      <td>23.550000</td>\n",
              "      <td>1.691498</td>\n",
              "      <td>74.134737</td>\n",
              "      <td>0.556522</td>\n",
              "      <td>0.582609</td>\n",
              "      <td>1.206522</td>\n",
              "      <td>2.523913</td>\n",
              "      <td>1.293478</td>\n",
              "      <td>0.034783</td>\n",
              "      <td>1.840217</td>\n",
              "      <td>0.065217</td>\n",
              "      <td>0.955435</td>\n",
              "      <td>0.523913</td>\n",
              "      <td>0.659783</td>\n",
              "      <td>3.354348</td>\n",
              "      <td>3.108696</td>\n",
              "    </tr>\n",
              "    <tr>\n",
              "      <th>std</th>\n",
              "      <td>0.477229</td>\n",
              "      <td>6.918435</td>\n",
              "      <td>0.095866</td>\n",
              "      <td>18.840495</td>\n",
              "      <td>0.497065</td>\n",
              "      <td>0.493397</td>\n",
              "      <td>0.562484</td>\n",
              "      <td>0.909073</td>\n",
              "      <td>0.657062</td>\n",
              "      <td>0.183328</td>\n",
              "      <td>0.659337</td>\n",
              "      <td>0.247043</td>\n",
              "      <td>0.964649</td>\n",
              "      <td>0.675608</td>\n",
              "      <td>0.614047</td>\n",
              "      <td>1.271810</td>\n",
              "      <td>1.423849</td>\n",
              "    </tr>\n",
              "    <tr>\n",
              "      <th>min</th>\n",
              "      <td>0.000000</td>\n",
              "      <td>14.000000</td>\n",
              "      <td>1.450000</td>\n",
              "      <td>39.000000</td>\n",
              "      <td>0.000000</td>\n",
              "      <td>0.000000</td>\n",
              "      <td>0.000000</td>\n",
              "      <td>1.000000</td>\n",
              "      <td>0.000000</td>\n",
              "      <td>0.000000</td>\n",
              "      <td>1.000000</td>\n",
              "      <td>0.000000</td>\n",
              "      <td>0.000000</td>\n",
              "      <td>0.000000</td>\n",
              "      <td>0.000000</td>\n",
              "      <td>1.000000</td>\n",
              "      <td>1.000000</td>\n",
              "    </tr>\n",
              "    <tr>\n",
              "      <th>25%</th>\n",
              "      <td>0.000000</td>\n",
              "      <td>19.000000</td>\n",
              "      <td>1.620000</td>\n",
              "      <td>60.000000</td>\n",
              "      <td>0.000000</td>\n",
              "      <td>0.000000</td>\n",
              "      <td>1.000000</td>\n",
              "      <td>2.000000</td>\n",
              "      <td>1.000000</td>\n",
              "      <td>0.000000</td>\n",
              "      <td>1.000000</td>\n",
              "      <td>0.000000</td>\n",
              "      <td>0.000000</td>\n",
              "      <td>0.000000</td>\n",
              "      <td>0.000000</td>\n",
              "      <td>3.000000</td>\n",
              "      <td>2.000000</td>\n",
              "    </tr>\n",
              "    <tr>\n",
              "      <th>50%</th>\n",
              "      <td>0.000000</td>\n",
              "      <td>21.000000</td>\n",
              "      <td>1.698358</td>\n",
              "      <td>75.000000</td>\n",
              "      <td>1.000000</td>\n",
              "      <td>1.000000</td>\n",
              "      <td>1.000000</td>\n",
              "      <td>3.000000</td>\n",
              "      <td>1.000000</td>\n",
              "      <td>0.000000</td>\n",
              "      <td>2.000000</td>\n",
              "      <td>0.000000</td>\n",
              "      <td>1.000000</td>\n",
              "      <td>0.000000</td>\n",
              "      <td>1.000000</td>\n",
              "      <td>4.000000</td>\n",
              "      <td>3.000000</td>\n",
              "    </tr>\n",
              "    <tr>\n",
              "      <th>75%</th>\n",
              "      <td>1.000000</td>\n",
              "      <td>25.000000</td>\n",
              "      <td>1.760000</td>\n",
              "      <td>85.000000</td>\n",
              "      <td>1.000000</td>\n",
              "      <td>1.000000</td>\n",
              "      <td>2.000000</td>\n",
              "      <td>3.000000</td>\n",
              "      <td>2.000000</td>\n",
              "      <td>0.000000</td>\n",
              "      <td>2.000000</td>\n",
              "      <td>0.000000</td>\n",
              "      <td>2.000000</td>\n",
              "      <td>1.000000</td>\n",
              "      <td>1.000000</td>\n",
              "      <td>4.000000</td>\n",
              "      <td>4.000000</td>\n",
              "    </tr>\n",
              "    <tr>\n",
              "      <th>max</th>\n",
              "      <td>1.000000</td>\n",
              "      <td>61.000000</td>\n",
              "      <td>1.980000</td>\n",
              "      <td>173.000000</td>\n",
              "      <td>1.000000</td>\n",
              "      <td>1.000000</td>\n",
              "      <td>2.000000</td>\n",
              "      <td>4.000000</td>\n",
              "      <td>3.000000</td>\n",
              "      <td>1.000000</td>\n",
              "      <td>3.000000</td>\n",
              "      <td>1.000000</td>\n",
              "      <td>3.000000</td>\n",
              "      <td>2.000000</td>\n",
              "      <td>3.000000</td>\n",
              "      <td>5.000000</td>\n",
              "      <td>7.000000</td>\n",
              "    </tr>\n",
              "  </tbody>\n",
              "</table>\n",
              "</div>\n",
              "    <div class=\"colab-df-buttons\">\n",
              "\n",
              "  <div class=\"colab-df-container\">\n",
              "    <button class=\"colab-df-convert\" onclick=\"convertToInteractive('df-be4d9d8d-8210-4985-aba5-9608533c66f9')\"\n",
              "            title=\"Convert this dataframe to an interactive table.\"\n",
              "            style=\"display:none;\">\n",
              "\n",
              "  <svg xmlns=\"http://www.w3.org/2000/svg\" height=\"24px\" viewBox=\"0 -960 960 960\">\n",
              "    <path d=\"M120-120v-720h720v720H120Zm60-500h600v-160H180v160Zm220 220h160v-160H400v160Zm0 220h160v-160H400v160ZM180-400h160v-160H180v160Zm440 0h160v-160H620v160ZM180-180h160v-160H180v160Zm440 0h160v-160H620v160Z\"/>\n",
              "  </svg>\n",
              "    </button>\n",
              "\n",
              "  <style>\n",
              "    .colab-df-container {\n",
              "      display:flex;\n",
              "      gap: 12px;\n",
              "    }\n",
              "\n",
              "    .colab-df-convert {\n",
              "      background-color: #E8F0FE;\n",
              "      border: none;\n",
              "      border-radius: 50%;\n",
              "      cursor: pointer;\n",
              "      display: none;\n",
              "      fill: #1967D2;\n",
              "      height: 32px;\n",
              "      padding: 0 0 0 0;\n",
              "      width: 32px;\n",
              "    }\n",
              "\n",
              "    .colab-df-convert:hover {\n",
              "      background-color: #E2EBFA;\n",
              "      box-shadow: 0px 1px 2px rgba(60, 64, 67, 0.3), 0px 1px 3px 1px rgba(60, 64, 67, 0.15);\n",
              "      fill: #174EA6;\n",
              "    }\n",
              "\n",
              "    .colab-df-buttons div {\n",
              "      margin-bottom: 4px;\n",
              "    }\n",
              "\n",
              "    [theme=dark] .colab-df-convert {\n",
              "      background-color: #3B4455;\n",
              "      fill: #D2E3FC;\n",
              "    }\n",
              "\n",
              "    [theme=dark] .colab-df-convert:hover {\n",
              "      background-color: #434B5C;\n",
              "      box-shadow: 0px 1px 3px 1px rgba(0, 0, 0, 0.15);\n",
              "      filter: drop-shadow(0px 1px 2px rgba(0, 0, 0, 0.3));\n",
              "      fill: #FFFFFF;\n",
              "    }\n",
              "  </style>\n",
              "\n",
              "    <script>\n",
              "      const buttonEl =\n",
              "        document.querySelector('#df-be4d9d8d-8210-4985-aba5-9608533c66f9 button.colab-df-convert');\n",
              "      buttonEl.style.display =\n",
              "        google.colab.kernel.accessAllowed ? 'block' : 'none';\n",
              "\n",
              "      async function convertToInteractive(key) {\n",
              "        const element = document.querySelector('#df-be4d9d8d-8210-4985-aba5-9608533c66f9');\n",
              "        const dataTable =\n",
              "          await google.colab.kernel.invokeFunction('convertToInteractive',\n",
              "                                                    [key], {});\n",
              "        if (!dataTable) return;\n",
              "\n",
              "        const docLinkHtml = 'Like what you see? Visit the ' +\n",
              "          '<a target=\"_blank\" href=https://colab.research.google.com/notebooks/data_table.ipynb>data table notebook</a>'\n",
              "          + ' to learn more about interactive tables.';\n",
              "        element.innerHTML = '';\n",
              "        dataTable['output_type'] = 'display_data';\n",
              "        await google.colab.output.renderOutput(dataTable, element);\n",
              "        const docLink = document.createElement('div');\n",
              "        docLink.innerHTML = docLinkHtml;\n",
              "        element.appendChild(docLink);\n",
              "      }\n",
              "    </script>\n",
              "  </div>\n",
              "\n",
              "\n",
              "<div id=\"df-b116e8e0-9987-408c-a06b-92f90ae8093c\">\n",
              "  <button class=\"colab-df-quickchart\" onclick=\"quickchart('df-b116e8e0-9987-408c-a06b-92f90ae8093c')\"\n",
              "            title=\"Suggest charts\"\n",
              "            style=\"display:none;\">\n",
              "\n",
              "<svg xmlns=\"http://www.w3.org/2000/svg\" height=\"24px\"viewBox=\"0 0 24 24\"\n",
              "     width=\"24px\">\n",
              "    <g>\n",
              "        <path d=\"M19 3H5c-1.1 0-2 .9-2 2v14c0 1.1.9 2 2 2h14c1.1 0 2-.9 2-2V5c0-1.1-.9-2-2-2zM9 17H7v-7h2v7zm4 0h-2V7h2v10zm4 0h-2v-4h2v4z\"/>\n",
              "    </g>\n",
              "</svg>\n",
              "  </button>\n",
              "\n",
              "<style>\n",
              "  .colab-df-quickchart {\n",
              "      --bg-color: #E8F0FE;\n",
              "      --fill-color: #1967D2;\n",
              "      --hover-bg-color: #E2EBFA;\n",
              "      --hover-fill-color: #174EA6;\n",
              "      --disabled-fill-color: #AAA;\n",
              "      --disabled-bg-color: #DDD;\n",
              "  }\n",
              "\n",
              "  [theme=dark] .colab-df-quickchart {\n",
              "      --bg-color: #3B4455;\n",
              "      --fill-color: #D2E3FC;\n",
              "      --hover-bg-color: #434B5C;\n",
              "      --hover-fill-color: #FFFFFF;\n",
              "      --disabled-bg-color: #3B4455;\n",
              "      --disabled-fill-color: #666;\n",
              "  }\n",
              "\n",
              "  .colab-df-quickchart {\n",
              "    background-color: var(--bg-color);\n",
              "    border: none;\n",
              "    border-radius: 50%;\n",
              "    cursor: pointer;\n",
              "    display: none;\n",
              "    fill: var(--fill-color);\n",
              "    height: 32px;\n",
              "    padding: 0;\n",
              "    width: 32px;\n",
              "  }\n",
              "\n",
              "  .colab-df-quickchart:hover {\n",
              "    background-color: var(--hover-bg-color);\n",
              "    box-shadow: 0 1px 2px rgba(60, 64, 67, 0.3), 0 1px 3px 1px rgba(60, 64, 67, 0.15);\n",
              "    fill: var(--button-hover-fill-color);\n",
              "  }\n",
              "\n",
              "  .colab-df-quickchart-complete:disabled,\n",
              "  .colab-df-quickchart-complete:disabled:hover {\n",
              "    background-color: var(--disabled-bg-color);\n",
              "    fill: var(--disabled-fill-color);\n",
              "    box-shadow: none;\n",
              "  }\n",
              "\n",
              "  .colab-df-spinner {\n",
              "    border: 2px solid var(--fill-color);\n",
              "    border-color: transparent;\n",
              "    border-bottom-color: var(--fill-color);\n",
              "    animation:\n",
              "      spin 1s steps(1) infinite;\n",
              "  }\n",
              "\n",
              "  @keyframes spin {\n",
              "    0% {\n",
              "      border-color: transparent;\n",
              "      border-bottom-color: var(--fill-color);\n",
              "      border-left-color: var(--fill-color);\n",
              "    }\n",
              "    20% {\n",
              "      border-color: transparent;\n",
              "      border-left-color: var(--fill-color);\n",
              "      border-top-color: var(--fill-color);\n",
              "    }\n",
              "    30% {\n",
              "      border-color: transparent;\n",
              "      border-left-color: var(--fill-color);\n",
              "      border-top-color: var(--fill-color);\n",
              "      border-right-color: var(--fill-color);\n",
              "    }\n",
              "    40% {\n",
              "      border-color: transparent;\n",
              "      border-right-color: var(--fill-color);\n",
              "      border-top-color: var(--fill-color);\n",
              "    }\n",
              "    60% {\n",
              "      border-color: transparent;\n",
              "      border-right-color: var(--fill-color);\n",
              "    }\n",
              "    80% {\n",
              "      border-color: transparent;\n",
              "      border-right-color: var(--fill-color);\n",
              "      border-bottom-color: var(--fill-color);\n",
              "    }\n",
              "    90% {\n",
              "      border-color: transparent;\n",
              "      border-bottom-color: var(--fill-color);\n",
              "    }\n",
              "  }\n",
              "</style>\n",
              "\n",
              "  <script>\n",
              "    async function quickchart(key) {\n",
              "      const quickchartButtonEl =\n",
              "        document.querySelector('#' + key + ' button');\n",
              "      quickchartButtonEl.disabled = true;  // To prevent multiple clicks.\n",
              "      quickchartButtonEl.classList.add('colab-df-spinner');\n",
              "      try {\n",
              "        const charts = await google.colab.kernel.invokeFunction(\n",
              "            'suggestCharts', [key], {});\n",
              "      } catch (error) {\n",
              "        console.error('Error during call to suggestCharts:', error);\n",
              "      }\n",
              "      quickchartButtonEl.classList.remove('colab-df-spinner');\n",
              "      quickchartButtonEl.classList.add('colab-df-quickchart-complete');\n",
              "    }\n",
              "    (() => {\n",
              "      let quickchartButtonEl =\n",
              "        document.querySelector('#df-b116e8e0-9987-408c-a06b-92f90ae8093c button');\n",
              "      quickchartButtonEl.style.display =\n",
              "        google.colab.kernel.accessAllowed ? 'block' : 'none';\n",
              "    })();\n",
              "  </script>\n",
              "</div>\n",
              "\n",
              "    </div>\n",
              "  </div>\n"
            ],
            "application/vnd.google.colaboratory.intrinsic+json": {
              "type": "dataframe",
              "summary": "{\n  \"name\": \"ds\",\n  \"rows\": 8,\n  \"fields\": [\n    {\n      \"column\": \"gend\",\n      \"properties\": {\n        \"dtype\": \"number\",\n        \"std\": 325.126588185617,\n        \"min\": 0.0,\n        \"max\": 920.0,\n        \"num_unique_values\": 5,\n        \"samples\": [\n          0.35,\n          1.0,\n          0.4772290348319332\n        ],\n        \"semantic_type\": \"\",\n        \"description\": \"\"\n      }\n    },\n    {\n      \"column\": \"age\",\n      \"properties\": {\n        \"dtype\": \"number\",\n        \"std\": 317.063826663505,\n        \"min\": 6.9184351039283944,\n        \"max\": 920.0,\n        \"num_unique_values\": 8,\n        \"samples\": [\n          23.55,\n          21.0,\n          920.0\n        ],\n        \"semantic_type\": \"\",\n        \"description\": \"\"\n      }\n    },\n    {\n      \"column\": \"height\",\n      \"properties\": {\n        \"dtype\": \"number\",\n        \"std\": 324.7496251668628,\n        \"min\": 0.09586590523026682,\n        \"max\": 920.0,\n        \"num_unique_values\": 8,\n        \"samples\": [\n          1.691498320863273,\n          1.6983580243965444,\n          920.0\n        ],\n        \"semantic_type\": \"\",\n        \"description\": \"\"\n      }\n    },\n    {\n      \"column\": \"weight\",\n      \"properties\": {\n        \"dtype\": \"number\",\n        \"std\": 302.1723127028968,\n        \"min\": 18.840494517091095,\n        \"max\": 920.0,\n        \"num_unique_values\": 8,\n        \"samples\": [\n          74.13473724393933,\n          75.0,\n          920.0\n        ],\n        \"semantic_type\": \"\",\n        \"description\": \"\"\n      }\n    },\n    {\n      \"column\": \"famhist\",\n      \"properties\": {\n        \"dtype\": \"number\",\n        \"std\": 325.0646480404144,\n        \"min\": 0.0,\n        \"max\": 920.0,\n        \"num_unique_values\": 5,\n        \"samples\": [\n          0.5565217391304348,\n          1.0,\n          0.4970652387161577\n        ],\n        \"semantic_type\": \"\",\n        \"description\": \"\"\n      }\n    },\n    {\n      \"column\": \"calH\",\n      \"properties\": {\n        \"dtype\": \"number\",\n        \"std\": 325.063515744955,\n        \"min\": 0.0,\n        \"max\": 920.0,\n        \"num_unique_values\": 5,\n        \"samples\": [\n          0.5826086956521739,\n          1.0,\n          0.4933968104342779\n        ],\n        \"semantic_type\": \"\",\n        \"description\": \"\"\n      }\n    },\n    {\n      \"column\": \"veg\",\n      \"properties\": {\n        \"dtype\": \"number\",\n        \"std\": 324.8774177762168,\n        \"min\": 0.0,\n        \"max\": 920.0,\n        \"num_unique_values\": 6,\n        \"samples\": [\n          920.0,\n          1.2065217391304348,\n          2.0\n        ],\n        \"semantic_type\": \"\",\n        \"description\": \"\"\n      }\n    },\n    {\n      \"column\": \"meals\",\n      \"properties\": {\n        \"dtype\": \"number\",\n        \"std\": 324.44080561196733,\n        \"min\": 0.9090728234340127,\n        \"max\": 920.0,\n        \"num_unique_values\": 7,\n        \"samples\": [\n          920.0,\n          2.523913043478261,\n          3.0\n        ],\n        \"semantic_type\": \"\",\n        \"description\": \"\"\n      }\n    },\n    {\n      \"column\": \"snacks\",\n      \"properties\": {\n        \"dtype\": \"number\",\n        \"std\": 324.81829347386076,\n        \"min\": 0.0,\n        \"max\": 920.0,\n        \"num_unique_values\": 7,\n        \"samples\": [\n          920.0,\n          1.2934782608695652,\n          2.0\n        ],\n        \"semantic_type\": \"\",\n        \"description\": \"\"\n      }\n    },\n    {\n      \"column\": \"smoke\",\n      \"properties\": {\n        \"dtype\": \"number\",\n        \"std\": 325.20777617823154,\n        \"min\": 0.0,\n        \"max\": 920.0,\n        \"num_unique_values\": 5,\n        \"samples\": [\n          0.034782608695652174,\n          1.0,\n          0.18332842302114846\n        ],\n        \"semantic_type\": \"\",\n        \"description\": \"\"\n      }\n    },\n    {\n      \"column\": \"water\",\n      \"properties\": {\n        \"dtype\": \"number\",\n        \"std\": 324.6891686689137,\n        \"min\": 0.6593365251912608,\n        \"max\": 920.0,\n        \"num_unique_values\": 6,\n        \"samples\": [\n          920.0,\n          1.8402173913043478,\n          3.0\n        ],\n        \"semantic_type\": \"\",\n        \"description\": \"\"\n      }\n    },\n    {\n      \"column\": \"calM\",\n      \"properties\": {\n        \"dtype\": \"number\",\n        \"std\": 325.20302011818507,\n        \"min\": 0.0,\n        \"max\": 920.0,\n        \"num_unique_values\": 5,\n        \"samples\": [\n          0.06521739130434782,\n          1.0,\n          0.24704335771173722\n        ],\n        \"semantic_type\": \"\",\n        \"description\": \"\"\n      }\n    },\n    {\n      \"column\": \"phys\",\n      \"properties\": {\n        \"dtype\": \"number\",\n        \"std\": 324.8706079201415,\n        \"min\": 0.0,\n        \"max\": 920.0,\n        \"num_unique_values\": 7,\n        \"samples\": [\n          920.0,\n          0.9554347826086956,\n          2.0\n        ],\n        \"semantic_type\": \"\",\n        \"description\": \"\"\n      }\n    },\n    {\n      \"column\": \"tech\",\n      \"properties\": {\n        \"dtype\": \"number\",\n        \"std\": 325.05771720804603,\n        \"min\": 0.0,\n        \"max\": 920.0,\n        \"num_unique_values\": 6,\n        \"samples\": [\n          920.0,\n          0.5239130434782608,\n          2.0\n        ],\n        \"semantic_type\": \"\",\n        \"description\": \"\"\n      }\n    },\n    {\n      \"column\": \"alc\",\n      \"properties\": {\n        \"dtype\": \"number\",\n        \"std\": 324.953603616478,\n        \"min\": 0.0,\n        \"max\": 920.0,\n        \"num_unique_values\": 6,\n        \"samples\": [\n          920.0,\n          0.6597826086956522,\n          3.0\n        ],\n        \"semantic_type\": \"\",\n        \"description\": \"\"\n      }\n    },\n    {\n      \"column\": \"trans\",\n      \"properties\": {\n        \"dtype\": \"number\",\n        \"std\": 324.1797102056848,\n        \"min\": 1.0,\n        \"max\": 920.0,\n        \"num_unique_values\": 7,\n        \"samples\": [\n          920.0,\n          3.3543478260869564,\n          4.0\n        ],\n        \"semantic_type\": \"\",\n        \"description\": \"\"\n      }\n    },\n    {\n      \"column\": \"obese\",\n      \"properties\": {\n        \"dtype\": \"number\",\n        \"std\": 324.18694998864623,\n        \"min\": 1.0,\n        \"max\": 920.0,\n        \"num_unique_values\": 8,\n        \"samples\": [\n          3.108695652173913,\n          3.0,\n          920.0\n        ],\n        \"semantic_type\": \"\",\n        \"description\": \"\"\n      }\n    }\n  ]\n}"
            }
          },
          "metadata": {},
          "execution_count": 26
        }
      ],
      "source": [
        "ds.describe()"
      ]
    },
    {
      "cell_type": "markdown",
      "id": "851a6c92-9e25-498a-b701-d6d47bdd15df",
      "metadata": {
        "id": "851a6c92-9e25-498a-b701-d6d47bdd15df"
      },
      "source": [
        "Note: Do not show entire table, but pick out key results (i.e. age, height, weight)"
      ]
    },
    {
      "cell_type": "markdown",
      "id": "0870bbe0-a282-451e-962f-769ee51b2488",
      "metadata": {
        "id": "0870bbe0-a282-451e-962f-769ee51b2488"
      },
      "source": [
        "# <span style=\"color:violet\">**Random Forests Analysis: Phase 1**</span>"
      ]
    },
    {
      "cell_type": "markdown",
      "id": "d38b39e8-f802-43d7-aa41-7255ffc96f5d",
      "metadata": {
        "id": "d38b39e8-f802-43d7-aa41-7255ffc96f5d"
      },
      "source": [
        "# <span style=\"color:skyblue\">**1. Preliminary/Data Prep**</span>"
      ]
    },
    {
      "cell_type": "markdown",
      "id": "b0c04084-68f9-41c7-95be-3f85e43fcf58",
      "metadata": {
        "id": "b0c04084-68f9-41c7-95be-3f85e43fcf58"
      },
      "source": [
        "## <span style=\"color:orange\">**Data Split 1: X, y Matrices**</span>"
      ]
    },
    {
      "cell_type": "code",
      "execution_count": 27,
      "id": "045707b9-6546-4388-9742-b7bea382cd56",
      "metadata": {
        "id": "045707b9-6546-4388-9742-b7bea382cd56"
      },
      "outputs": [],
      "source": [
        "numvars=[\"age\", \"height\", \"weight\"]\n",
        "catvars=[\"gend\", \"famhist\", \"calH\", \"veg\", \"meals\", \"snacks\", \"smoke\", \"water\", \"calM\",\n",
        "         \"phys\", \"tech\", \"alc\", \"trans\"]\n",
        "\n",
        "#For SMOTE\n",
        "ohe_catvars=pd.get_dummies(ds[catvars],drop_first=True)\n",
        "X2=pd.concat([ds[numvars],ohe_catvars],axis=1)\n",
        "y=ds['obese']\n",
        "\n",
        "#For class weights method\n",
        "ohe_catvars_w=pd.get_dummies(df[catvars],drop_first=True)\n",
        "X2_w=pd.concat([df[numvars],ohe_catvars_w],axis=1)\n",
        "y_w=df['obese']"
      ]
    },
    {
      "cell_type": "markdown",
      "id": "1424237d-a193-4ec2-ae8e-4ff4c9d8f6eb",
      "metadata": {
        "id": "1424237d-a193-4ec2-ae8e-4ff4c9d8f6eb"
      },
      "source": [
        "## <span style=\"color:orange\">**Data Split 2: Train/Test (80/20)**</span>"
      ]
    },
    {
      "cell_type": "code",
      "execution_count": 28,
      "id": "4b1a50f3-7507-42e8-8afe-79595deecd95",
      "metadata": {
        "id": "4b1a50f3-7507-42e8-8afe-79595deecd95"
      },
      "outputs": [],
      "source": [
        "#For SMOTE method\n",
        "Xtrain, Xtest, ytrain, ytest = train_test_split(X2.fillna(0.), y, test_size=0.2, random_state=666)\n",
        "\n",
        "#For class weights method\n",
        "Xtrain_w, Xtest_w, ytrain_w, ytest_w = train_test_split(X2_w.fillna(0.), y_w, test_size=0.2, random_state=666)"
      ]
    },
    {
      "cell_type": "markdown",
      "source": [],
      "metadata": {
        "id": "sMx74G3pmffY"
      },
      "id": "sMx74G3pmffY"
    },
    {
      "cell_type": "markdown",
      "id": "f8fad710-587c-44d3-a73f-555396980873",
      "metadata": {
        "id": "f8fad710-587c-44d3-a73f-555396980873"
      },
      "source": [
        "## <span style=\"color:orange\">**Feature Scaling**</span>"
      ]
    },
    {
      "cell_type": "code",
      "execution_count": 29,
      "id": "b20b1f80-b142-4aea-943e-ece5773ed345",
      "metadata": {
        "id": "b20b1f80-b142-4aea-943e-ece5773ed345"
      },
      "outputs": [],
      "source": [
        "scale=StandardScaler()\n",
        "\n",
        "#For SMOTE method\n",
        "Xtrain_sca=scale.fit_transform(Xtrain[numvars])\n",
        "Xtest_sca=scale.transform(Xtest[numvars])\n",
        "\n",
        "#For class weights method\n",
        "Xtrainw_sca=scale.fit_transform(Xtrain_w[numvars])\n",
        "Xtestw_sca=scale.transform(Xtest_w[numvars])"
      ]
    },
    {
      "cell_type": "markdown",
      "id": "88d33aad-6c03-41c2-a8da-9b88b4858a62",
      "metadata": {
        "id": "88d33aad-6c03-41c2-a8da-9b88b4858a62"
      },
      "source": [
        "## <span style=\"color:orange\">**Concatenation: OHE & Scaled**</span>"
      ]
    },
    {
      "cell_type": "code",
      "execution_count": 63,
      "id": "0cedf80e-59d0-43f9-a4ca-43c9ff5955d0",
      "metadata": {
        "id": "0cedf80e-59d0-43f9-a4ca-43c9ff5955d0"
      },
      "outputs": [],
      "source": [
        "#For SMOTE method\n",
        "Xtrain_fin=pd.concat([pd.DataFrame(Xtrain_sca, columns=numvars).reset_index(drop=True),\n",
        "                        Xtrain[ohe_catvars.columns].reset_index(drop=True)], axis=1)\n",
        "Xtest_fin=pd.concat([pd.DataFrame(Xtest_sca, columns=numvars).reset_index(drop=True),\n",
        "                       Xtest[ohe_catvars.columns].reset_index(drop=True)], axis=1)\n",
        "ncols=Xtrain_fin.shape[1]\n",
        "\n",
        "\n",
        "#For class weights method\n",
        "Xtrainw_fin=pd.concat([pd.DataFrame(Xtrainw_sca, columns=numvars).reset_index(drop=True),\n",
        "                        Xtrain_w[ohe_catvars_w.columns].reset_index(drop=True)], axis=1)\n",
        "Xtestw_fin=pd.concat([pd.DataFrame(Xtestw_sca, columns=numvars).reset_index(drop=True),\n",
        "                       Xtest_w[ohe_catvars_w.columns].reset_index(drop=True)], axis=1)\n",
        "ncols_w=Xtrainw_fin.shape[1]"
      ]
    },
    {
      "cell_type": "markdown",
      "id": "fe5fb6a0-b3a3-42a5-8075-a5c781f49cf9",
      "metadata": {
        "id": "fe5fb6a0-b3a3-42a5-8075-a5c781f49cf9"
      },
      "source": [
        "# <span style=\"color:skyblue\">**2. Model Building**</span>"
      ]
    },
    {
      "cell_type": "markdown",
      "id": "81425857-a571-4116-b662-168dfca10d8b",
      "metadata": {
        "id": "81425857-a571-4116-b662-168dfca10d8b"
      },
      "source": [
        "## <span style=\"color:orange\">**Hyperparameter Tuning**</span>"
      ]
    },
    {
      "cell_type": "code",
      "execution_count": 31,
      "id": "aef3a88f-9745-4ef9-9116-d953623e26e0",
      "metadata": {
        "id": "aef3a88f-9745-4ef9-9116-d953623e26e0",
        "outputId": "cebb7580-8264-463a-dff7-e874848bfa18",
        "colab": {
          "base_uri": "https://localhost:8080/"
        }
      },
      "outputs": [
        {
          "metadata": {
            "tags": null
          },
          "name": "stdout",
          "output_type": "stream",
          "text": [
            "RandomForestClassifier(max_depth=13, n_estimators=1000)\n"
          ]
        },
        {
          "metadata": {
            "tags": null
          },
          "name": "stderr",
          "output_type": "stream",
          "text": [
            "/usr/local/lib/python3.11/dist-packages/sklearn/model_selection/_split.py:805: UserWarning: The least populated class in y has only 3 members, which is less than n_splits=5.\n",
            "  warnings.warn(\n"
          ]
        },
        {
          "output_type": "stream",
          "name": "stdout",
          "text": [
            "RandomForestClassifier(max_depth=12, n_estimators=300)\n"
          ]
        }
      ],
      "source": [
        "params=[{\n",
        "    'n_estimators': [10,100,300,500,1000],\n",
        "    'max_depth': [6,7,8,9,10,11,12,13,14,15]}]\n",
        "\n",
        "ht=GridSearchCV(RandomForestClassifier(),\n",
        "                           param_grid=params)\n",
        "ht.fit(Xtrain_fin, ytrain)\n",
        "print(ht.best_estimator_)\n",
        "\n",
        "ht_w=GridSearchCV(RandomForestClassifier(),\n",
        "                           param_grid=params)\n",
        "ht_w.fit(Xtrainw_fin, ytrain_w)\n",
        "print(ht_w.best_estimator_)"
      ]
    },
    {
      "cell_type": "markdown",
      "id": "b5b43bc7-ebb8-4962-9cfe-8b742925f15e",
      "metadata": {
        "id": "b5b43bc7-ebb8-4962-9cfe-8b742925f15e"
      },
      "source": [
        "## <span style=\"color:orange\">**Model Fit [Tune for Model Evaluation]**</span>"
      ]
    },
    {
      "cell_type": "code",
      "execution_count": 64,
      "id": "6fd5f547-39f7-4ab7-9d40-4c09cad35eeb",
      "metadata": {
        "id": "6fd5f547-39f7-4ab7-9d40-4c09cad35eeb",
        "outputId": "1ebb2960-8ec5-4b32-ca28-95960718abf4",
        "colab": {
          "base_uri": "https://localhost:8080/",
          "height": 80
        }
      },
      "outputs": [
        {
          "output_type": "execute_result",
          "data": {
            "text/plain": [
              "RandomForestClassifier(max_depth=11, n_estimators=500, random_state=666)"
            ],
            "text/html": [
              "<style>#sk-container-id-3 {\n",
              "  /* Definition of color scheme common for light and dark mode */\n",
              "  --sklearn-color-text: #000;\n",
              "  --sklearn-color-text-muted: #666;\n",
              "  --sklearn-color-line: gray;\n",
              "  /* Definition of color scheme for unfitted estimators */\n",
              "  --sklearn-color-unfitted-level-0: #fff5e6;\n",
              "  --sklearn-color-unfitted-level-1: #f6e4d2;\n",
              "  --sklearn-color-unfitted-level-2: #ffe0b3;\n",
              "  --sklearn-color-unfitted-level-3: chocolate;\n",
              "  /* Definition of color scheme for fitted estimators */\n",
              "  --sklearn-color-fitted-level-0: #f0f8ff;\n",
              "  --sklearn-color-fitted-level-1: #d4ebff;\n",
              "  --sklearn-color-fitted-level-2: #b3dbfd;\n",
              "  --sklearn-color-fitted-level-3: cornflowerblue;\n",
              "\n",
              "  /* Specific color for light theme */\n",
              "  --sklearn-color-text-on-default-background: var(--sg-text-color, var(--theme-code-foreground, var(--jp-content-font-color1, black)));\n",
              "  --sklearn-color-background: var(--sg-background-color, var(--theme-background, var(--jp-layout-color0, white)));\n",
              "  --sklearn-color-border-box: var(--sg-text-color, var(--theme-code-foreground, var(--jp-content-font-color1, black)));\n",
              "  --sklearn-color-icon: #696969;\n",
              "\n",
              "  @media (prefers-color-scheme: dark) {\n",
              "    /* Redefinition of color scheme for dark theme */\n",
              "    --sklearn-color-text-on-default-background: var(--sg-text-color, var(--theme-code-foreground, var(--jp-content-font-color1, white)));\n",
              "    --sklearn-color-background: var(--sg-background-color, var(--theme-background, var(--jp-layout-color0, #111)));\n",
              "    --sklearn-color-border-box: var(--sg-text-color, var(--theme-code-foreground, var(--jp-content-font-color1, white)));\n",
              "    --sklearn-color-icon: #878787;\n",
              "  }\n",
              "}\n",
              "\n",
              "#sk-container-id-3 {\n",
              "  color: var(--sklearn-color-text);\n",
              "}\n",
              "\n",
              "#sk-container-id-3 pre {\n",
              "  padding: 0;\n",
              "}\n",
              "\n",
              "#sk-container-id-3 input.sk-hidden--visually {\n",
              "  border: 0;\n",
              "  clip: rect(1px 1px 1px 1px);\n",
              "  clip: rect(1px, 1px, 1px, 1px);\n",
              "  height: 1px;\n",
              "  margin: -1px;\n",
              "  overflow: hidden;\n",
              "  padding: 0;\n",
              "  position: absolute;\n",
              "  width: 1px;\n",
              "}\n",
              "\n",
              "#sk-container-id-3 div.sk-dashed-wrapped {\n",
              "  border: 1px dashed var(--sklearn-color-line);\n",
              "  margin: 0 0.4em 0.5em 0.4em;\n",
              "  box-sizing: border-box;\n",
              "  padding-bottom: 0.4em;\n",
              "  background-color: var(--sklearn-color-background);\n",
              "}\n",
              "\n",
              "#sk-container-id-3 div.sk-container {\n",
              "  /* jupyter's `normalize.less` sets `[hidden] { display: none; }`\n",
              "     but bootstrap.min.css set `[hidden] { display: none !important; }`\n",
              "     so we also need the `!important` here to be able to override the\n",
              "     default hidden behavior on the sphinx rendered scikit-learn.org.\n",
              "     See: https://github.com/scikit-learn/scikit-learn/issues/21755 */\n",
              "  display: inline-block !important;\n",
              "  position: relative;\n",
              "}\n",
              "\n",
              "#sk-container-id-3 div.sk-text-repr-fallback {\n",
              "  display: none;\n",
              "}\n",
              "\n",
              "div.sk-parallel-item,\n",
              "div.sk-serial,\n",
              "div.sk-item {\n",
              "  /* draw centered vertical line to link estimators */\n",
              "  background-image: linear-gradient(var(--sklearn-color-text-on-default-background), var(--sklearn-color-text-on-default-background));\n",
              "  background-size: 2px 100%;\n",
              "  background-repeat: no-repeat;\n",
              "  background-position: center center;\n",
              "}\n",
              "\n",
              "/* Parallel-specific style estimator block */\n",
              "\n",
              "#sk-container-id-3 div.sk-parallel-item::after {\n",
              "  content: \"\";\n",
              "  width: 100%;\n",
              "  border-bottom: 2px solid var(--sklearn-color-text-on-default-background);\n",
              "  flex-grow: 1;\n",
              "}\n",
              "\n",
              "#sk-container-id-3 div.sk-parallel {\n",
              "  display: flex;\n",
              "  align-items: stretch;\n",
              "  justify-content: center;\n",
              "  background-color: var(--sklearn-color-background);\n",
              "  position: relative;\n",
              "}\n",
              "\n",
              "#sk-container-id-3 div.sk-parallel-item {\n",
              "  display: flex;\n",
              "  flex-direction: column;\n",
              "}\n",
              "\n",
              "#sk-container-id-3 div.sk-parallel-item:first-child::after {\n",
              "  align-self: flex-end;\n",
              "  width: 50%;\n",
              "}\n",
              "\n",
              "#sk-container-id-3 div.sk-parallel-item:last-child::after {\n",
              "  align-self: flex-start;\n",
              "  width: 50%;\n",
              "}\n",
              "\n",
              "#sk-container-id-3 div.sk-parallel-item:only-child::after {\n",
              "  width: 0;\n",
              "}\n",
              "\n",
              "/* Serial-specific style estimator block */\n",
              "\n",
              "#sk-container-id-3 div.sk-serial {\n",
              "  display: flex;\n",
              "  flex-direction: column;\n",
              "  align-items: center;\n",
              "  background-color: var(--sklearn-color-background);\n",
              "  padding-right: 1em;\n",
              "  padding-left: 1em;\n",
              "}\n",
              "\n",
              "\n",
              "/* Toggleable style: style used for estimator/Pipeline/ColumnTransformer box that is\n",
              "clickable and can be expanded/collapsed.\n",
              "- Pipeline and ColumnTransformer use this feature and define the default style\n",
              "- Estimators will overwrite some part of the style using the `sk-estimator` class\n",
              "*/\n",
              "\n",
              "/* Pipeline and ColumnTransformer style (default) */\n",
              "\n",
              "#sk-container-id-3 div.sk-toggleable {\n",
              "  /* Default theme specific background. It is overwritten whether we have a\n",
              "  specific estimator or a Pipeline/ColumnTransformer */\n",
              "  background-color: var(--sklearn-color-background);\n",
              "}\n",
              "\n",
              "/* Toggleable label */\n",
              "#sk-container-id-3 label.sk-toggleable__label {\n",
              "  cursor: pointer;\n",
              "  display: flex;\n",
              "  width: 100%;\n",
              "  margin-bottom: 0;\n",
              "  padding: 0.5em;\n",
              "  box-sizing: border-box;\n",
              "  text-align: center;\n",
              "  align-items: start;\n",
              "  justify-content: space-between;\n",
              "  gap: 0.5em;\n",
              "}\n",
              "\n",
              "#sk-container-id-3 label.sk-toggleable__label .caption {\n",
              "  font-size: 0.6rem;\n",
              "  font-weight: lighter;\n",
              "  color: var(--sklearn-color-text-muted);\n",
              "}\n",
              "\n",
              "#sk-container-id-3 label.sk-toggleable__label-arrow:before {\n",
              "  /* Arrow on the left of the label */\n",
              "  content: \"▸\";\n",
              "  float: left;\n",
              "  margin-right: 0.25em;\n",
              "  color: var(--sklearn-color-icon);\n",
              "}\n",
              "\n",
              "#sk-container-id-3 label.sk-toggleable__label-arrow:hover:before {\n",
              "  color: var(--sklearn-color-text);\n",
              "}\n",
              "\n",
              "/* Toggleable content - dropdown */\n",
              "\n",
              "#sk-container-id-3 div.sk-toggleable__content {\n",
              "  max-height: 0;\n",
              "  max-width: 0;\n",
              "  overflow: hidden;\n",
              "  text-align: left;\n",
              "  /* unfitted */\n",
              "  background-color: var(--sklearn-color-unfitted-level-0);\n",
              "}\n",
              "\n",
              "#sk-container-id-3 div.sk-toggleable__content.fitted {\n",
              "  /* fitted */\n",
              "  background-color: var(--sklearn-color-fitted-level-0);\n",
              "}\n",
              "\n",
              "#sk-container-id-3 div.sk-toggleable__content pre {\n",
              "  margin: 0.2em;\n",
              "  border-radius: 0.25em;\n",
              "  color: var(--sklearn-color-text);\n",
              "  /* unfitted */\n",
              "  background-color: var(--sklearn-color-unfitted-level-0);\n",
              "}\n",
              "\n",
              "#sk-container-id-3 div.sk-toggleable__content.fitted pre {\n",
              "  /* unfitted */\n",
              "  background-color: var(--sklearn-color-fitted-level-0);\n",
              "}\n",
              "\n",
              "#sk-container-id-3 input.sk-toggleable__control:checked~div.sk-toggleable__content {\n",
              "  /* Expand drop-down */\n",
              "  max-height: 200px;\n",
              "  max-width: 100%;\n",
              "  overflow: auto;\n",
              "}\n",
              "\n",
              "#sk-container-id-3 input.sk-toggleable__control:checked~label.sk-toggleable__label-arrow:before {\n",
              "  content: \"▾\";\n",
              "}\n",
              "\n",
              "/* Pipeline/ColumnTransformer-specific style */\n",
              "\n",
              "#sk-container-id-3 div.sk-label input.sk-toggleable__control:checked~label.sk-toggleable__label {\n",
              "  color: var(--sklearn-color-text);\n",
              "  background-color: var(--sklearn-color-unfitted-level-2);\n",
              "}\n",
              "\n",
              "#sk-container-id-3 div.sk-label.fitted input.sk-toggleable__control:checked~label.sk-toggleable__label {\n",
              "  background-color: var(--sklearn-color-fitted-level-2);\n",
              "}\n",
              "\n",
              "/* Estimator-specific style */\n",
              "\n",
              "/* Colorize estimator box */\n",
              "#sk-container-id-3 div.sk-estimator input.sk-toggleable__control:checked~label.sk-toggleable__label {\n",
              "  /* unfitted */\n",
              "  background-color: var(--sklearn-color-unfitted-level-2);\n",
              "}\n",
              "\n",
              "#sk-container-id-3 div.sk-estimator.fitted input.sk-toggleable__control:checked~label.sk-toggleable__label {\n",
              "  /* fitted */\n",
              "  background-color: var(--sklearn-color-fitted-level-2);\n",
              "}\n",
              "\n",
              "#sk-container-id-3 div.sk-label label.sk-toggleable__label,\n",
              "#sk-container-id-3 div.sk-label label {\n",
              "  /* The background is the default theme color */\n",
              "  color: var(--sklearn-color-text-on-default-background);\n",
              "}\n",
              "\n",
              "/* On hover, darken the color of the background */\n",
              "#sk-container-id-3 div.sk-label:hover label.sk-toggleable__label {\n",
              "  color: var(--sklearn-color-text);\n",
              "  background-color: var(--sklearn-color-unfitted-level-2);\n",
              "}\n",
              "\n",
              "/* Label box, darken color on hover, fitted */\n",
              "#sk-container-id-3 div.sk-label.fitted:hover label.sk-toggleable__label.fitted {\n",
              "  color: var(--sklearn-color-text);\n",
              "  background-color: var(--sklearn-color-fitted-level-2);\n",
              "}\n",
              "\n",
              "/* Estimator label */\n",
              "\n",
              "#sk-container-id-3 div.sk-label label {\n",
              "  font-family: monospace;\n",
              "  font-weight: bold;\n",
              "  display: inline-block;\n",
              "  line-height: 1.2em;\n",
              "}\n",
              "\n",
              "#sk-container-id-3 div.sk-label-container {\n",
              "  text-align: center;\n",
              "}\n",
              "\n",
              "/* Estimator-specific */\n",
              "#sk-container-id-3 div.sk-estimator {\n",
              "  font-family: monospace;\n",
              "  border: 1px dotted var(--sklearn-color-border-box);\n",
              "  border-radius: 0.25em;\n",
              "  box-sizing: border-box;\n",
              "  margin-bottom: 0.5em;\n",
              "  /* unfitted */\n",
              "  background-color: var(--sklearn-color-unfitted-level-0);\n",
              "}\n",
              "\n",
              "#sk-container-id-3 div.sk-estimator.fitted {\n",
              "  /* fitted */\n",
              "  background-color: var(--sklearn-color-fitted-level-0);\n",
              "}\n",
              "\n",
              "/* on hover */\n",
              "#sk-container-id-3 div.sk-estimator:hover {\n",
              "  /* unfitted */\n",
              "  background-color: var(--sklearn-color-unfitted-level-2);\n",
              "}\n",
              "\n",
              "#sk-container-id-3 div.sk-estimator.fitted:hover {\n",
              "  /* fitted */\n",
              "  background-color: var(--sklearn-color-fitted-level-2);\n",
              "}\n",
              "\n",
              "/* Specification for estimator info (e.g. \"i\" and \"?\") */\n",
              "\n",
              "/* Common style for \"i\" and \"?\" */\n",
              "\n",
              ".sk-estimator-doc-link,\n",
              "a:link.sk-estimator-doc-link,\n",
              "a:visited.sk-estimator-doc-link {\n",
              "  float: right;\n",
              "  font-size: smaller;\n",
              "  line-height: 1em;\n",
              "  font-family: monospace;\n",
              "  background-color: var(--sklearn-color-background);\n",
              "  border-radius: 1em;\n",
              "  height: 1em;\n",
              "  width: 1em;\n",
              "  text-decoration: none !important;\n",
              "  margin-left: 0.5em;\n",
              "  text-align: center;\n",
              "  /* unfitted */\n",
              "  border: var(--sklearn-color-unfitted-level-1) 1pt solid;\n",
              "  color: var(--sklearn-color-unfitted-level-1);\n",
              "}\n",
              "\n",
              ".sk-estimator-doc-link.fitted,\n",
              "a:link.sk-estimator-doc-link.fitted,\n",
              "a:visited.sk-estimator-doc-link.fitted {\n",
              "  /* fitted */\n",
              "  border: var(--sklearn-color-fitted-level-1) 1pt solid;\n",
              "  color: var(--sklearn-color-fitted-level-1);\n",
              "}\n",
              "\n",
              "/* On hover */\n",
              "div.sk-estimator:hover .sk-estimator-doc-link:hover,\n",
              ".sk-estimator-doc-link:hover,\n",
              "div.sk-label-container:hover .sk-estimator-doc-link:hover,\n",
              ".sk-estimator-doc-link:hover {\n",
              "  /* unfitted */\n",
              "  background-color: var(--sklearn-color-unfitted-level-3);\n",
              "  color: var(--sklearn-color-background);\n",
              "  text-decoration: none;\n",
              "}\n",
              "\n",
              "div.sk-estimator.fitted:hover .sk-estimator-doc-link.fitted:hover,\n",
              ".sk-estimator-doc-link.fitted:hover,\n",
              "div.sk-label-container:hover .sk-estimator-doc-link.fitted:hover,\n",
              ".sk-estimator-doc-link.fitted:hover {\n",
              "  /* fitted */\n",
              "  background-color: var(--sklearn-color-fitted-level-3);\n",
              "  color: var(--sklearn-color-background);\n",
              "  text-decoration: none;\n",
              "}\n",
              "\n",
              "/* Span, style for the box shown on hovering the info icon */\n",
              ".sk-estimator-doc-link span {\n",
              "  display: none;\n",
              "  z-index: 9999;\n",
              "  position: relative;\n",
              "  font-weight: normal;\n",
              "  right: .2ex;\n",
              "  padding: .5ex;\n",
              "  margin: .5ex;\n",
              "  width: min-content;\n",
              "  min-width: 20ex;\n",
              "  max-width: 50ex;\n",
              "  color: var(--sklearn-color-text);\n",
              "  box-shadow: 2pt 2pt 4pt #999;\n",
              "  /* unfitted */\n",
              "  background: var(--sklearn-color-unfitted-level-0);\n",
              "  border: .5pt solid var(--sklearn-color-unfitted-level-3);\n",
              "}\n",
              "\n",
              ".sk-estimator-doc-link.fitted span {\n",
              "  /* fitted */\n",
              "  background: var(--sklearn-color-fitted-level-0);\n",
              "  border: var(--sklearn-color-fitted-level-3);\n",
              "}\n",
              "\n",
              ".sk-estimator-doc-link:hover span {\n",
              "  display: block;\n",
              "}\n",
              "\n",
              "/* \"?\"-specific style due to the `<a>` HTML tag */\n",
              "\n",
              "#sk-container-id-3 a.estimator_doc_link {\n",
              "  float: right;\n",
              "  font-size: 1rem;\n",
              "  line-height: 1em;\n",
              "  font-family: monospace;\n",
              "  background-color: var(--sklearn-color-background);\n",
              "  border-radius: 1rem;\n",
              "  height: 1rem;\n",
              "  width: 1rem;\n",
              "  text-decoration: none;\n",
              "  /* unfitted */\n",
              "  color: var(--sklearn-color-unfitted-level-1);\n",
              "  border: var(--sklearn-color-unfitted-level-1) 1pt solid;\n",
              "}\n",
              "\n",
              "#sk-container-id-3 a.estimator_doc_link.fitted {\n",
              "  /* fitted */\n",
              "  border: var(--sklearn-color-fitted-level-1) 1pt solid;\n",
              "  color: var(--sklearn-color-fitted-level-1);\n",
              "}\n",
              "\n",
              "/* On hover */\n",
              "#sk-container-id-3 a.estimator_doc_link:hover {\n",
              "  /* unfitted */\n",
              "  background-color: var(--sklearn-color-unfitted-level-3);\n",
              "  color: var(--sklearn-color-background);\n",
              "  text-decoration: none;\n",
              "}\n",
              "\n",
              "#sk-container-id-3 a.estimator_doc_link.fitted:hover {\n",
              "  /* fitted */\n",
              "  background-color: var(--sklearn-color-fitted-level-3);\n",
              "}\n",
              "</style><div id=\"sk-container-id-3\" class=\"sk-top-container\"><div class=\"sk-text-repr-fallback\"><pre>RandomForestClassifier(max_depth=11, n_estimators=500, random_state=666)</pre><b>In a Jupyter environment, please rerun this cell to show the HTML representation or trust the notebook. <br />On GitHub, the HTML representation is unable to render, please try loading this page with nbviewer.org.</b></div><div class=\"sk-container\" hidden><div class=\"sk-item\"><div class=\"sk-estimator fitted sk-toggleable\"><input class=\"sk-toggleable__control sk-hidden--visually\" id=\"sk-estimator-id-3\" type=\"checkbox\" checked><label for=\"sk-estimator-id-3\" class=\"sk-toggleable__label fitted sk-toggleable__label-arrow\"><div><div>RandomForestClassifier</div></div><div><a class=\"sk-estimator-doc-link fitted\" rel=\"noreferrer\" target=\"_blank\" href=\"https://scikit-learn.org/1.6/modules/generated/sklearn.ensemble.RandomForestClassifier.html\">?<span>Documentation for RandomForestClassifier</span></a><span class=\"sk-estimator-doc-link fitted\">i<span>Fitted</span></span></div></label><div class=\"sk-toggleable__content fitted\"><pre>RandomForestClassifier(max_depth=11, n_estimators=500, random_state=666)</pre></div> </div></div></div></div>"
            ]
          },
          "metadata": {},
          "execution_count": 64
        }
      ],
      "source": [
        "#SMOTE\n",
        "mod=RandomForestClassifier(n_estimators=500,\n",
        "                           random_state=666,\n",
        "                           max_depth=11,\n",
        "                           max_features=\"sqrt\"\n",
        ")\n",
        "mod.fit(Xtrain_fin, ytrain)"
      ]
    },
    {
      "cell_type": "code",
      "source": [
        "#Class weights\n",
        "mod_w=RandomForestClassifier(n_estimators=500,\n",
        "                           random_state=666,\n",
        "                           max_depth=14,\n",
        "                           max_features=\"sqrt\"\n",
        ")\n",
        "mod_w.fit(Xtrainw_fin, ytrain_w)"
      ],
      "metadata": {
        "colab": {
          "base_uri": "https://localhost:8080/",
          "height": 80
        },
        "id": "F_5qMANloERV",
        "outputId": "098c775c-ab49-479c-a7bc-1d7548047172"
      },
      "id": "F_5qMANloERV",
      "execution_count": 65,
      "outputs": [
        {
          "output_type": "execute_result",
          "data": {
            "text/plain": [
              "RandomForestClassifier(max_depth=14, n_estimators=500, random_state=666)"
            ],
            "text/html": [
              "<style>#sk-container-id-4 {\n",
              "  /* Definition of color scheme common for light and dark mode */\n",
              "  --sklearn-color-text: #000;\n",
              "  --sklearn-color-text-muted: #666;\n",
              "  --sklearn-color-line: gray;\n",
              "  /* Definition of color scheme for unfitted estimators */\n",
              "  --sklearn-color-unfitted-level-0: #fff5e6;\n",
              "  --sklearn-color-unfitted-level-1: #f6e4d2;\n",
              "  --sklearn-color-unfitted-level-2: #ffe0b3;\n",
              "  --sklearn-color-unfitted-level-3: chocolate;\n",
              "  /* Definition of color scheme for fitted estimators */\n",
              "  --sklearn-color-fitted-level-0: #f0f8ff;\n",
              "  --sklearn-color-fitted-level-1: #d4ebff;\n",
              "  --sklearn-color-fitted-level-2: #b3dbfd;\n",
              "  --sklearn-color-fitted-level-3: cornflowerblue;\n",
              "\n",
              "  /* Specific color for light theme */\n",
              "  --sklearn-color-text-on-default-background: var(--sg-text-color, var(--theme-code-foreground, var(--jp-content-font-color1, black)));\n",
              "  --sklearn-color-background: var(--sg-background-color, var(--theme-background, var(--jp-layout-color0, white)));\n",
              "  --sklearn-color-border-box: var(--sg-text-color, var(--theme-code-foreground, var(--jp-content-font-color1, black)));\n",
              "  --sklearn-color-icon: #696969;\n",
              "\n",
              "  @media (prefers-color-scheme: dark) {\n",
              "    /* Redefinition of color scheme for dark theme */\n",
              "    --sklearn-color-text-on-default-background: var(--sg-text-color, var(--theme-code-foreground, var(--jp-content-font-color1, white)));\n",
              "    --sklearn-color-background: var(--sg-background-color, var(--theme-background, var(--jp-layout-color0, #111)));\n",
              "    --sklearn-color-border-box: var(--sg-text-color, var(--theme-code-foreground, var(--jp-content-font-color1, white)));\n",
              "    --sklearn-color-icon: #878787;\n",
              "  }\n",
              "}\n",
              "\n",
              "#sk-container-id-4 {\n",
              "  color: var(--sklearn-color-text);\n",
              "}\n",
              "\n",
              "#sk-container-id-4 pre {\n",
              "  padding: 0;\n",
              "}\n",
              "\n",
              "#sk-container-id-4 input.sk-hidden--visually {\n",
              "  border: 0;\n",
              "  clip: rect(1px 1px 1px 1px);\n",
              "  clip: rect(1px, 1px, 1px, 1px);\n",
              "  height: 1px;\n",
              "  margin: -1px;\n",
              "  overflow: hidden;\n",
              "  padding: 0;\n",
              "  position: absolute;\n",
              "  width: 1px;\n",
              "}\n",
              "\n",
              "#sk-container-id-4 div.sk-dashed-wrapped {\n",
              "  border: 1px dashed var(--sklearn-color-line);\n",
              "  margin: 0 0.4em 0.5em 0.4em;\n",
              "  box-sizing: border-box;\n",
              "  padding-bottom: 0.4em;\n",
              "  background-color: var(--sklearn-color-background);\n",
              "}\n",
              "\n",
              "#sk-container-id-4 div.sk-container {\n",
              "  /* jupyter's `normalize.less` sets `[hidden] { display: none; }`\n",
              "     but bootstrap.min.css set `[hidden] { display: none !important; }`\n",
              "     so we also need the `!important` here to be able to override the\n",
              "     default hidden behavior on the sphinx rendered scikit-learn.org.\n",
              "     See: https://github.com/scikit-learn/scikit-learn/issues/21755 */\n",
              "  display: inline-block !important;\n",
              "  position: relative;\n",
              "}\n",
              "\n",
              "#sk-container-id-4 div.sk-text-repr-fallback {\n",
              "  display: none;\n",
              "}\n",
              "\n",
              "div.sk-parallel-item,\n",
              "div.sk-serial,\n",
              "div.sk-item {\n",
              "  /* draw centered vertical line to link estimators */\n",
              "  background-image: linear-gradient(var(--sklearn-color-text-on-default-background), var(--sklearn-color-text-on-default-background));\n",
              "  background-size: 2px 100%;\n",
              "  background-repeat: no-repeat;\n",
              "  background-position: center center;\n",
              "}\n",
              "\n",
              "/* Parallel-specific style estimator block */\n",
              "\n",
              "#sk-container-id-4 div.sk-parallel-item::after {\n",
              "  content: \"\";\n",
              "  width: 100%;\n",
              "  border-bottom: 2px solid var(--sklearn-color-text-on-default-background);\n",
              "  flex-grow: 1;\n",
              "}\n",
              "\n",
              "#sk-container-id-4 div.sk-parallel {\n",
              "  display: flex;\n",
              "  align-items: stretch;\n",
              "  justify-content: center;\n",
              "  background-color: var(--sklearn-color-background);\n",
              "  position: relative;\n",
              "}\n",
              "\n",
              "#sk-container-id-4 div.sk-parallel-item {\n",
              "  display: flex;\n",
              "  flex-direction: column;\n",
              "}\n",
              "\n",
              "#sk-container-id-4 div.sk-parallel-item:first-child::after {\n",
              "  align-self: flex-end;\n",
              "  width: 50%;\n",
              "}\n",
              "\n",
              "#sk-container-id-4 div.sk-parallel-item:last-child::after {\n",
              "  align-self: flex-start;\n",
              "  width: 50%;\n",
              "}\n",
              "\n",
              "#sk-container-id-4 div.sk-parallel-item:only-child::after {\n",
              "  width: 0;\n",
              "}\n",
              "\n",
              "/* Serial-specific style estimator block */\n",
              "\n",
              "#sk-container-id-4 div.sk-serial {\n",
              "  display: flex;\n",
              "  flex-direction: column;\n",
              "  align-items: center;\n",
              "  background-color: var(--sklearn-color-background);\n",
              "  padding-right: 1em;\n",
              "  padding-left: 1em;\n",
              "}\n",
              "\n",
              "\n",
              "/* Toggleable style: style used for estimator/Pipeline/ColumnTransformer box that is\n",
              "clickable and can be expanded/collapsed.\n",
              "- Pipeline and ColumnTransformer use this feature and define the default style\n",
              "- Estimators will overwrite some part of the style using the `sk-estimator` class\n",
              "*/\n",
              "\n",
              "/* Pipeline and ColumnTransformer style (default) */\n",
              "\n",
              "#sk-container-id-4 div.sk-toggleable {\n",
              "  /* Default theme specific background. It is overwritten whether we have a\n",
              "  specific estimator or a Pipeline/ColumnTransformer */\n",
              "  background-color: var(--sklearn-color-background);\n",
              "}\n",
              "\n",
              "/* Toggleable label */\n",
              "#sk-container-id-4 label.sk-toggleable__label {\n",
              "  cursor: pointer;\n",
              "  display: flex;\n",
              "  width: 100%;\n",
              "  margin-bottom: 0;\n",
              "  padding: 0.5em;\n",
              "  box-sizing: border-box;\n",
              "  text-align: center;\n",
              "  align-items: start;\n",
              "  justify-content: space-between;\n",
              "  gap: 0.5em;\n",
              "}\n",
              "\n",
              "#sk-container-id-4 label.sk-toggleable__label .caption {\n",
              "  font-size: 0.6rem;\n",
              "  font-weight: lighter;\n",
              "  color: var(--sklearn-color-text-muted);\n",
              "}\n",
              "\n",
              "#sk-container-id-4 label.sk-toggleable__label-arrow:before {\n",
              "  /* Arrow on the left of the label */\n",
              "  content: \"▸\";\n",
              "  float: left;\n",
              "  margin-right: 0.25em;\n",
              "  color: var(--sklearn-color-icon);\n",
              "}\n",
              "\n",
              "#sk-container-id-4 label.sk-toggleable__label-arrow:hover:before {\n",
              "  color: var(--sklearn-color-text);\n",
              "}\n",
              "\n",
              "/* Toggleable content - dropdown */\n",
              "\n",
              "#sk-container-id-4 div.sk-toggleable__content {\n",
              "  max-height: 0;\n",
              "  max-width: 0;\n",
              "  overflow: hidden;\n",
              "  text-align: left;\n",
              "  /* unfitted */\n",
              "  background-color: var(--sklearn-color-unfitted-level-0);\n",
              "}\n",
              "\n",
              "#sk-container-id-4 div.sk-toggleable__content.fitted {\n",
              "  /* fitted */\n",
              "  background-color: var(--sklearn-color-fitted-level-0);\n",
              "}\n",
              "\n",
              "#sk-container-id-4 div.sk-toggleable__content pre {\n",
              "  margin: 0.2em;\n",
              "  border-radius: 0.25em;\n",
              "  color: var(--sklearn-color-text);\n",
              "  /* unfitted */\n",
              "  background-color: var(--sklearn-color-unfitted-level-0);\n",
              "}\n",
              "\n",
              "#sk-container-id-4 div.sk-toggleable__content.fitted pre {\n",
              "  /* unfitted */\n",
              "  background-color: var(--sklearn-color-fitted-level-0);\n",
              "}\n",
              "\n",
              "#sk-container-id-4 input.sk-toggleable__control:checked~div.sk-toggleable__content {\n",
              "  /* Expand drop-down */\n",
              "  max-height: 200px;\n",
              "  max-width: 100%;\n",
              "  overflow: auto;\n",
              "}\n",
              "\n",
              "#sk-container-id-4 input.sk-toggleable__control:checked~label.sk-toggleable__label-arrow:before {\n",
              "  content: \"▾\";\n",
              "}\n",
              "\n",
              "/* Pipeline/ColumnTransformer-specific style */\n",
              "\n",
              "#sk-container-id-4 div.sk-label input.sk-toggleable__control:checked~label.sk-toggleable__label {\n",
              "  color: var(--sklearn-color-text);\n",
              "  background-color: var(--sklearn-color-unfitted-level-2);\n",
              "}\n",
              "\n",
              "#sk-container-id-4 div.sk-label.fitted input.sk-toggleable__control:checked~label.sk-toggleable__label {\n",
              "  background-color: var(--sklearn-color-fitted-level-2);\n",
              "}\n",
              "\n",
              "/* Estimator-specific style */\n",
              "\n",
              "/* Colorize estimator box */\n",
              "#sk-container-id-4 div.sk-estimator input.sk-toggleable__control:checked~label.sk-toggleable__label {\n",
              "  /* unfitted */\n",
              "  background-color: var(--sklearn-color-unfitted-level-2);\n",
              "}\n",
              "\n",
              "#sk-container-id-4 div.sk-estimator.fitted input.sk-toggleable__control:checked~label.sk-toggleable__label {\n",
              "  /* fitted */\n",
              "  background-color: var(--sklearn-color-fitted-level-2);\n",
              "}\n",
              "\n",
              "#sk-container-id-4 div.sk-label label.sk-toggleable__label,\n",
              "#sk-container-id-4 div.sk-label label {\n",
              "  /* The background is the default theme color */\n",
              "  color: var(--sklearn-color-text-on-default-background);\n",
              "}\n",
              "\n",
              "/* On hover, darken the color of the background */\n",
              "#sk-container-id-4 div.sk-label:hover label.sk-toggleable__label {\n",
              "  color: var(--sklearn-color-text);\n",
              "  background-color: var(--sklearn-color-unfitted-level-2);\n",
              "}\n",
              "\n",
              "/* Label box, darken color on hover, fitted */\n",
              "#sk-container-id-4 div.sk-label.fitted:hover label.sk-toggleable__label.fitted {\n",
              "  color: var(--sklearn-color-text);\n",
              "  background-color: var(--sklearn-color-fitted-level-2);\n",
              "}\n",
              "\n",
              "/* Estimator label */\n",
              "\n",
              "#sk-container-id-4 div.sk-label label {\n",
              "  font-family: monospace;\n",
              "  font-weight: bold;\n",
              "  display: inline-block;\n",
              "  line-height: 1.2em;\n",
              "}\n",
              "\n",
              "#sk-container-id-4 div.sk-label-container {\n",
              "  text-align: center;\n",
              "}\n",
              "\n",
              "/* Estimator-specific */\n",
              "#sk-container-id-4 div.sk-estimator {\n",
              "  font-family: monospace;\n",
              "  border: 1px dotted var(--sklearn-color-border-box);\n",
              "  border-radius: 0.25em;\n",
              "  box-sizing: border-box;\n",
              "  margin-bottom: 0.5em;\n",
              "  /* unfitted */\n",
              "  background-color: var(--sklearn-color-unfitted-level-0);\n",
              "}\n",
              "\n",
              "#sk-container-id-4 div.sk-estimator.fitted {\n",
              "  /* fitted */\n",
              "  background-color: var(--sklearn-color-fitted-level-0);\n",
              "}\n",
              "\n",
              "/* on hover */\n",
              "#sk-container-id-4 div.sk-estimator:hover {\n",
              "  /* unfitted */\n",
              "  background-color: var(--sklearn-color-unfitted-level-2);\n",
              "}\n",
              "\n",
              "#sk-container-id-4 div.sk-estimator.fitted:hover {\n",
              "  /* fitted */\n",
              "  background-color: var(--sklearn-color-fitted-level-2);\n",
              "}\n",
              "\n",
              "/* Specification for estimator info (e.g. \"i\" and \"?\") */\n",
              "\n",
              "/* Common style for \"i\" and \"?\" */\n",
              "\n",
              ".sk-estimator-doc-link,\n",
              "a:link.sk-estimator-doc-link,\n",
              "a:visited.sk-estimator-doc-link {\n",
              "  float: right;\n",
              "  font-size: smaller;\n",
              "  line-height: 1em;\n",
              "  font-family: monospace;\n",
              "  background-color: var(--sklearn-color-background);\n",
              "  border-radius: 1em;\n",
              "  height: 1em;\n",
              "  width: 1em;\n",
              "  text-decoration: none !important;\n",
              "  margin-left: 0.5em;\n",
              "  text-align: center;\n",
              "  /* unfitted */\n",
              "  border: var(--sklearn-color-unfitted-level-1) 1pt solid;\n",
              "  color: var(--sklearn-color-unfitted-level-1);\n",
              "}\n",
              "\n",
              ".sk-estimator-doc-link.fitted,\n",
              "a:link.sk-estimator-doc-link.fitted,\n",
              "a:visited.sk-estimator-doc-link.fitted {\n",
              "  /* fitted */\n",
              "  border: var(--sklearn-color-fitted-level-1) 1pt solid;\n",
              "  color: var(--sklearn-color-fitted-level-1);\n",
              "}\n",
              "\n",
              "/* On hover */\n",
              "div.sk-estimator:hover .sk-estimator-doc-link:hover,\n",
              ".sk-estimator-doc-link:hover,\n",
              "div.sk-label-container:hover .sk-estimator-doc-link:hover,\n",
              ".sk-estimator-doc-link:hover {\n",
              "  /* unfitted */\n",
              "  background-color: var(--sklearn-color-unfitted-level-3);\n",
              "  color: var(--sklearn-color-background);\n",
              "  text-decoration: none;\n",
              "}\n",
              "\n",
              "div.sk-estimator.fitted:hover .sk-estimator-doc-link.fitted:hover,\n",
              ".sk-estimator-doc-link.fitted:hover,\n",
              "div.sk-label-container:hover .sk-estimator-doc-link.fitted:hover,\n",
              ".sk-estimator-doc-link.fitted:hover {\n",
              "  /* fitted */\n",
              "  background-color: var(--sklearn-color-fitted-level-3);\n",
              "  color: var(--sklearn-color-background);\n",
              "  text-decoration: none;\n",
              "}\n",
              "\n",
              "/* Span, style for the box shown on hovering the info icon */\n",
              ".sk-estimator-doc-link span {\n",
              "  display: none;\n",
              "  z-index: 9999;\n",
              "  position: relative;\n",
              "  font-weight: normal;\n",
              "  right: .2ex;\n",
              "  padding: .5ex;\n",
              "  margin: .5ex;\n",
              "  width: min-content;\n",
              "  min-width: 20ex;\n",
              "  max-width: 50ex;\n",
              "  color: var(--sklearn-color-text);\n",
              "  box-shadow: 2pt 2pt 4pt #999;\n",
              "  /* unfitted */\n",
              "  background: var(--sklearn-color-unfitted-level-0);\n",
              "  border: .5pt solid var(--sklearn-color-unfitted-level-3);\n",
              "}\n",
              "\n",
              ".sk-estimator-doc-link.fitted span {\n",
              "  /* fitted */\n",
              "  background: var(--sklearn-color-fitted-level-0);\n",
              "  border: var(--sklearn-color-fitted-level-3);\n",
              "}\n",
              "\n",
              ".sk-estimator-doc-link:hover span {\n",
              "  display: block;\n",
              "}\n",
              "\n",
              "/* \"?\"-specific style due to the `<a>` HTML tag */\n",
              "\n",
              "#sk-container-id-4 a.estimator_doc_link {\n",
              "  float: right;\n",
              "  font-size: 1rem;\n",
              "  line-height: 1em;\n",
              "  font-family: monospace;\n",
              "  background-color: var(--sklearn-color-background);\n",
              "  border-radius: 1rem;\n",
              "  height: 1rem;\n",
              "  width: 1rem;\n",
              "  text-decoration: none;\n",
              "  /* unfitted */\n",
              "  color: var(--sklearn-color-unfitted-level-1);\n",
              "  border: var(--sklearn-color-unfitted-level-1) 1pt solid;\n",
              "}\n",
              "\n",
              "#sk-container-id-4 a.estimator_doc_link.fitted {\n",
              "  /* fitted */\n",
              "  border: var(--sklearn-color-fitted-level-1) 1pt solid;\n",
              "  color: var(--sklearn-color-fitted-level-1);\n",
              "}\n",
              "\n",
              "/* On hover */\n",
              "#sk-container-id-4 a.estimator_doc_link:hover {\n",
              "  /* unfitted */\n",
              "  background-color: var(--sklearn-color-unfitted-level-3);\n",
              "  color: var(--sklearn-color-background);\n",
              "  text-decoration: none;\n",
              "}\n",
              "\n",
              "#sk-container-id-4 a.estimator_doc_link.fitted:hover {\n",
              "  /* fitted */\n",
              "  background-color: var(--sklearn-color-fitted-level-3);\n",
              "}\n",
              "</style><div id=\"sk-container-id-4\" class=\"sk-top-container\"><div class=\"sk-text-repr-fallback\"><pre>RandomForestClassifier(max_depth=14, n_estimators=500, random_state=666)</pre><b>In a Jupyter environment, please rerun this cell to show the HTML representation or trust the notebook. <br />On GitHub, the HTML representation is unable to render, please try loading this page with nbviewer.org.</b></div><div class=\"sk-container\" hidden><div class=\"sk-item\"><div class=\"sk-estimator fitted sk-toggleable\"><input class=\"sk-toggleable__control sk-hidden--visually\" id=\"sk-estimator-id-4\" type=\"checkbox\" checked><label for=\"sk-estimator-id-4\" class=\"sk-toggleable__label fitted sk-toggleable__label-arrow\"><div><div>RandomForestClassifier</div></div><div><a class=\"sk-estimator-doc-link fitted\" rel=\"noreferrer\" target=\"_blank\" href=\"https://scikit-learn.org/1.6/modules/generated/sklearn.ensemble.RandomForestClassifier.html\">?<span>Documentation for RandomForestClassifier</span></a><span class=\"sk-estimator-doc-link fitted\">i<span>Fitted</span></span></div></label><div class=\"sk-toggleable__content fitted\"><pre>RandomForestClassifier(max_depth=14, n_estimators=500, random_state=666)</pre></div> </div></div></div></div>"
            ]
          },
          "metadata": {},
          "execution_count": 65
        }
      ]
    },
    {
      "cell_type": "markdown",
      "id": "da94589f-2ad7-463c-9fe4-dbbd50c25ab3",
      "metadata": {
        "id": "da94589f-2ad7-463c-9fe4-dbbd50c25ab3"
      },
      "source": [
        "# <span style=\"color:skyblue\">**3. Model Evaluation**</span>"
      ]
    },
    {
      "cell_type": "markdown",
      "id": "b9106258-86dd-4f54-bfa2-5a8fb6b7d53f",
      "metadata": {
        "id": "b9106258-86dd-4f54-bfa2-5a8fb6b7d53f"
      },
      "source": [
        "## <span style=\"color:orange\">**Model Evaluation I: Accuracy & Score**</span>"
      ]
    },
    {
      "cell_type": "code",
      "execution_count": 68,
      "id": "7c93217e-4138-4c75-a567-0c2fd3b3c1d6",
      "metadata": {
        "id": "7c93217e-4138-4c75-a567-0c2fd3b3c1d6",
        "outputId": "ebadcfd1-ac29-4884-d1da-c4b236743c0f",
        "colab": {
          "base_uri": "https://localhost:8080/"
        }
      },
      "outputs": [
        {
          "output_type": "stream",
          "name": "stdout",
          "text": [
            "Accuracy: 0.9185\n"
          ]
        }
      ],
      "source": [
        "#SMOTE\n",
        "yhat=mod.predict(Xtest_fin)\n",
        "init_acc=accuracy_score(ytest, yhat)\n",
        "print(f\"Accuracy: {init_acc:.4f}\")"
      ]
    },
    {
      "cell_type": "markdown",
      "id": "7d3e6961-97c3-4b78-90fc-3fc8997dd168",
      "metadata": {
        "id": "7d3e6961-97c3-4b78-90fc-3fc8997dd168"
      },
      "source": [
        "Note: Improved accuracy based on hyperparameter tuning output compared to defaults."
      ]
    },
    {
      "cell_type": "code",
      "source": [
        "#Class weights\n",
        "yhat_w=mod_w.predict(Xtestw_fin)\n",
        "init_acc_w=accuracy_score(ytest_w, yhat_w)\n",
        "print(f\"Accuracy: {init_acc_w:.4f}\")"
      ],
      "metadata": {
        "colab": {
          "base_uri": "https://localhost:8080/"
        },
        "id": "tNk4FNm6oiTF",
        "outputId": "37827fd6-bea1-4ca4-d7f1-6a7e31569433"
      },
      "id": "tNk4FNm6oiTF",
      "execution_count": 69,
      "outputs": [
        {
          "output_type": "stream",
          "name": "stdout",
          "text": [
            "Accuracy: 0.7700\n"
          ]
        }
      ]
    },
    {
      "cell_type": "markdown",
      "id": "dd9d08c1-1eb7-4697-88b7-c8c6a3eb9670",
      "metadata": {
        "id": "dd9d08c1-1eb7-4697-88b7-c8c6a3eb9670"
      },
      "source": [
        "## <span style=\"color:orange\">**Model Evaluation II: Confusion Matrix**</span>"
      ]
    },
    {
      "cell_type": "code",
      "execution_count": 67,
      "id": "8f9a2125-ad82-4506-9959-4280e4b1731c",
      "metadata": {
        "id": "8f9a2125-ad82-4506-9959-4280e4b1731c",
        "outputId": "d20ba567-9fa4-42a3-e018-34a279f2834c",
        "colab": {
          "base_uri": "https://localhost:8080/",
          "height": 419
        }
      },
      "outputs": [
        {
          "output_type": "display_data",
          "data": {
            "text/plain": [
              "<Figure size 600x400 with 2 Axes>"
            ],
            "image/png": "[encoded data removed]"
          },
          "metadata": {}
        }
      ],
      "source": [
        "#For SMOTE\n",
        "cm=confusion_matrix(ytest, yhat)\n",
        "plt.figure(figsize=(6,4))\n",
        "sns.heatmap(cm, annot=True, fmt='d', cmap='Blues',\n",
        "            xticklabels=['Under', 'Norm', 'OW1', 'OW2', 'Ob1', 'Ob2', 'Ob3'],\n",
        "            yticklabels=['Under', 'Norm', 'OW1', 'OW2', 'Ob1', 'Ob2', 'Ob3'])\n",
        "plt.title(\"Confusion Matrix\")\n",
        "plt.xlabel(\"Predicted Class\")\n",
        "plt.ylabel(\"True Class\")\n",
        "plt.show()"
      ]
    },
    {
      "cell_type": "code",
      "source": [
        "#For class weights\n",
        "cm_w=confusion_matrix(ytest_w, yhat_w)\n",
        "plt.figure(figsize=(6,4))\n",
        "sns.heatmap(cm_w, annot=True, fmt='d', cmap='Blues',\n",
        "            xticklabels=['Under', 'Norm', 'OW1', 'OW2', 'Ob1', 'Ob2', 'Ob3'],\n",
        "            yticklabels=['Under', 'Norm', 'OW1', 'OW2', 'Ob1', 'Ob2', 'Ob3'])\n",
        "plt.title(\"Confusion Matrix Weighted classes\")\n",
        "plt.xlabel(\"Predicted Class\")\n",
        "plt.ylabel(\"True Class\")\n",
        "plt.show()"
      ],
      "metadata": {
        "colab": {
          "base_uri": "https://localhost:8080/",
          "height": 419
        },
        "id": "6K3nm_uCp0Zz",
        "outputId": "907cba95-06d5-4b66-fc60-d39fee0a5960"
      },
      "id": "6K3nm_uCp0Zz",
      "execution_count": 37,
      "outputs": [
        {
          "output_type": "display_data",
          "data": {
            "text/plain": [
              "<Figure size 600x400 with 2 Axes>"
            ],
            "image/png": "[encoded data removed]"
          },
          "metadata": {}
        }
      ]
    },
    {
      "cell_type": "markdown",
      "source": [
        "\n",
        "---\n",
        "# **Based on this result, we decide to move forward with the model built using SMOTE instead of class weights**\n",
        "---\n",
        "\n",
        "\n",
        "\n",
        "\n",
        "\n",
        "\n"
      ],
      "metadata": {
        "id": "iGxD8uqKtUAJ"
      },
      "id": "iGxD8uqKtUAJ"
    },
    {
      "cell_type": "markdown",
      "id": "ece47b8b-6f3f-47e0-89e9-a0de3834061a",
      "metadata": {
        "id": "ece47b8b-6f3f-47e0-89e9-a0de3834061a"
      },
      "source": [
        "## <span style=\"color:orange\">**Model Evaluation III: Cross-Validation**</span>"
      ]
    },
    {
      "cell_type": "code",
      "execution_count": 70,
      "id": "beb724c0-2193-40ac-af92-46e4495209ec",
      "metadata": {
        "id": "beb724c0-2193-40ac-af92-46e4495209ec",
        "outputId": "de5ef72f-289d-47b7-b1e1-0742a9bbf219",
        "colab": {
          "base_uri": "https://localhost:8080/"
        }
      },
      "outputs": [
        {
          "output_type": "stream",
          "name": "stdout",
          "text": [
            "CV Accuracy per K-fold: [0.89430894 0.87804878 0.85365854 0.8699187  0.8852459  0.86885246]\n",
            "Mean CV Accuracy: 0.8750\n"
          ]
        }
      ],
      "source": [
        "cv=StratifiedKFold(n_splits=6, shuffle=True, random_state=666)\n",
        "cvresult=cross_val_score(mod, Xtrain_fin, ytrain, cv=cv, scoring='accuracy')\n",
        "print(f\"CV Accuracy per K-fold: {cvresult}\")\n",
        "print(f\"Mean CV Accuracy: {cvresult.mean():.4f}\")"
      ]
    },
    {
      "cell_type": "markdown",
      "id": "1bb92a36-e672-444c-953d-d958dd850572",
      "metadata": {
        "id": "1bb92a36-e672-444c-953d-d958dd850572"
      },
      "source": [
        "Note: Results are consistent.  Good model fit, but not fantastic."
      ]
    },
    {
      "cell_type": "markdown",
      "id": "e888155b-7bb5-4220-8f83-a795a9617636",
      "metadata": {
        "id": "e888155b-7bb5-4220-8f83-a795a9617636"
      },
      "source": [
        "## <span style=\"color:orange\">**Model Evaluation IV: Features**</span>"
      ]
    },
    {
      "cell_type": "markdown",
      "id": "5c3a3677-13e9-4e4e-8ead-973cfef9ee05",
      "metadata": {
        "id": "5c3a3677-13e9-4e4e-8ead-973cfef9ee05"
      },
      "source": [
        "### <span style=\"color:orange\">**_(i) Feature Importance_**</span>"
      ]
    },
    {
      "cell_type": "code",
      "execution_count": 39,
      "id": "9576064f-0f18-4ea2-a995-093c40a97500",
      "metadata": {
        "id": "9576064f-0f18-4ea2-a995-093c40a97500",
        "outputId": "43384b67-c027-4981-8532-d34b7b482061",
        "colab": {
          "base_uri": "https://localhost:8080/",
          "height": 436
        }
      },
      "outputs": [
        {
          "output_type": "display_data",
          "data": {
            "text/plain": [
              "<Figure size 600x400 with 1 Axes>"
            ],
            "image/png": "[encoded data removed]"
          },
          "metadata": {}
        },
        {
          "output_type": "stream",
          "name": "stdout",
          "text": [
            "Total Relative Importance: 1.0000\n"
          ]
        }
      ],
      "source": [
        "# All features\n",
        "Ximp=mod.feature_importances_\n",
        "indices=np.argsort(Ximp)[::-1]\n",
        "plt.figure(figsize=(6,4))\n",
        "plt.title(\"Feature Importance Chart\")\n",
        "plt.barh(range(len(indices)), Ximp[indices], align=\"center\")\n",
        "plt.yticks(range(len(indices)), [Xtrain_fin.columns[i] for i in indices])\n",
        "plt.xlabel(\"Relative Importance\")\n",
        "plt.gca().invert_yaxis()\n",
        "plt.show()\n",
        "risum_all=np.sum(Ximp)\n",
        "print(f\"Total Relative Importance: {risum_all:.4f}\")"
      ]
    },
    {
      "cell_type": "code",
      "execution_count": 40,
      "id": "dd98efc5-6a04-45e8-838c-dd619a3c1269",
      "metadata": {
        "id": "dd98efc5-6a04-45e8-838c-dd619a3c1269",
        "outputId": "b1fe47db-1c42-492e-bdf8-ef6598375b7b",
        "colab": {
          "base_uri": "https://localhost:8080/",
          "height": 436
        }
      },
      "outputs": [
        {
          "output_type": "display_data",
          "data": {
            "text/plain": [
              "<Figure size 600x400 with 1 Axes>"
            ],
            "image/png": "[encoded data removed]"
          },
          "metadata": {}
        },
        {
          "output_type": "stream",
          "name": "stdout",
          "text": [
            "Total Relative Importance: 0.9874\n"
          ]
        }
      ],
      "source": [
        "# Top 14 --> Most Valuable\n",
        "mvf_ind=indices[:14]\n",
        "mvf=[Xtrain_fin.columns[i] for i in mvf_ind]\n",
        "plt.figure(figsize=(6,4))\n",
        "plt.title(\"Feature Importance Chart (Top14)\")\n",
        "plt.barh(range(14), Ximp[mvf_ind], align=\"center\")\n",
        "plt.yticks(range(14), mvf)\n",
        "plt.xlabel(\"Relative Importance\")\n",
        "plt.gca().invert_yaxis()\n",
        "plt.show()\n",
        "risum_mvf=np.sum(Ximp[mvf_ind])\n",
        "print(f\"Total Relative Importance: {risum_mvf:.4f}\")"
      ]
    },
    {
      "cell_type": "markdown",
      "id": "4885dadd-9276-448f-bfd9-0ef172a0cc59",
      "metadata": {
        "id": "4885dadd-9276-448f-bfd9-0ef172a0cc59"
      },
      "source": [
        "Note: Run reduced model update and evaluate.  Results in Phase 2 below suggest keep full model."
      ]
    },
    {
      "cell_type": "markdown",
      "id": "388ea2be-6d78-40b9-9625-52e4d76a2c87",
      "metadata": {
        "id": "388ea2be-6d78-40b9-9625-52e4d76a2c87"
      },
      "source": [
        "### <span style=\"color:orange\">**_(ii) Permutation_**</span>"
      ]
    },
    {
      "cell_type": "code",
      "execution_count": 41,
      "id": "4ea5506d-76fe-4292-99e4-95070d5c05e9",
      "metadata": {
        "id": "4ea5506d-76fe-4292-99e4-95070d5c05e9",
        "outputId": "f3be69f3-f7e1-4402-ae5a-6b32f2cea790",
        "colab": {
          "base_uri": "https://localhost:8080/",
          "height": 714
        }
      },
      "outputs": [
        {
          "output_type": "stream",
          "name": "stdout",
          "text": [
            "    Feature  Permutation Importance\n",
            "2    weight                0.581069\n",
            "1    height                0.185236\n",
            "0       age                0.034873\n",
            "7     meals                0.022192\n",
            "12     phys                0.012228\n",
            "3      gend                0.007246\n",
            "13     tech                0.005888\n",
            "5      calH                0.005888\n",
            "10    water                0.005435\n",
            "4   famhist                0.004529\n",
            "6       veg                0.003623\n",
            "8    snacks                0.002717\n",
            "15    trans                0.001359\n",
            "14      alc                0.000906\n",
            "11     calM                0.000000\n",
            "9     smoke                0.000000\n"
          ]
        },
        {
          "output_type": "display_data",
          "data": {
            "text/plain": [
              "<Figure size 600x400 with 1 Axes>"
            ],
            "image/png": "[encoded data removed]"
          },
          "metadata": {}
        }
      ],
      "source": [
        "perm=permutation_importance(mod, Xtest_fin, ytest, n_repeats=12,\n",
        "                                random_state=666, n_jobs=-1)\n",
        "perm_imp=perm.importances_mean\n",
        "feats=Xtrain_fin.columns if hasattr(Xtrain_fin, 'columns') else [f'Feature {i+1}' for i in range(Xtrain_fin.shape[1])]\n",
        "feats_imp=pd.DataFrame({\n",
        "    'Feature': feats,\n",
        "    'Permutation Importance': perm_imp\n",
        "})\n",
        "feats_imp=feats_imp.sort_values(by='Permutation Importance',ascending=False)\n",
        "print(feats_imp)\n",
        "\n",
        "plt.figure(figsize=(6,4))\n",
        "plt.barh(feats_imp['Feature'], feats_imp['Permutation Importance'])\n",
        "plt.title('Feature Importance Chart: Permutation')\n",
        "plt.xlabel('Permutation Importance')\n",
        "plt.gca().invert_yaxis()\n",
        "plt.show()"
      ]
    },
    {
      "cell_type": "markdown",
      "id": "be1b9935-36ee-4709-af8c-0d9c5aadf123",
      "metadata": {
        "id": "be1b9935-36ee-4709-af8c-0d9c5aadf123"
      },
      "source": [
        "Note: Higher PI value indicates that shuffling values of feature decreases mod performance.\n",
        "This suggests the feature is important."
      ]
    },
    {
      "cell_type": "markdown",
      "id": "a3d0bcc5-c1f1-453e-ae9b-9bbe0c5db0d9",
      "metadata": {
        "id": "a3d0bcc5-c1f1-453e-ae9b-9bbe0c5db0d9"
      },
      "source": [
        "### <span style=\"color:orange\">**_(iii) SHAP Values_**</span>"
      ]
    },
    {
      "cell_type": "code",
      "source": [
        "shap_exp = shap.TreeExplainer(mod)\n",
        "\n",
        "try:\n",
        "    explainer = shap.Explainer(mod)\n",
        "    shap_vals_alt = explainer(Xtest_array)\n",
        "    feature_names = Xtest_fin.columns.tolist()\n",
        "    class_names = ['Under', 'Norm', 'OW1', 'OW2', 'Ob1', 'Ob2', 'Ob3']\n",
        "    shap.summary_plot(shap_vals_alt, Xtest_array, feature_names=feature_names, class_names=class_names, cmap=plt.cm.Dark2)\n",
        "\n",
        "except Exception as e:\n",
        "    print(\"Error with alternative method:\", e)"
      ],
      "metadata": {
        "colab": {
          "base_uri": "https://localhost:8080/",
          "height": 790
        },
        "id": "tpoBCkoP_7ID",
        "outputId": "a283184d-8f3b-4378-e965-191e99947a50"
      },
      "id": "tpoBCkoP_7ID",
      "execution_count": 101,
      "outputs": [
        {
          "output_type": "display_data",
          "data": {
            "text/plain": [
              "<Figure size 800x790 with 1 Axes>"
            ],
            "image/png": "[encoded data removed]"
          },
          "metadata": {}
        }
      ]
    },
    {
      "cell_type": "markdown",
      "id": "669913e9-3b7e-4339-84b1-da46da791fbe",
      "metadata": {
        "id": "669913e9-3b7e-4339-84b1-da46da791fbe"
      },
      "source": [
        "Note: Can't debug, may omit or ask prof"
      ]
    },
    {
      "cell_type": "markdown",
      "id": "b5c61803-4584-4dca-a79d-a343ba9e8bd2",
      "metadata": {
        "id": "b5c61803-4584-4dca-a79d-a343ba9e8bd2"
      },
      "source": [
        "## <span style=\"color:orange\">**Model Evaluation V: Classification Report (TBD)**</span>"
      ]
    },
    {
      "cell_type": "code",
      "execution_count": 81,
      "id": "5772d984-12b2-4bac-afa1-cb8e5b49758b",
      "metadata": {
        "id": "5772d984-12b2-4bac-afa1-cb8e5b49758b",
        "outputId": "b609bed6-eaa2-49fc-ab07-6ea5700e1b78",
        "colab": {
          "base_uri": "https://localhost:8080/"
        }
      },
      "outputs": [
        {
          "output_type": "stream",
          "name": "stdout",
          "text": [
            "Classification Report:\n",
            "              precision    recall  f1-score   support\n",
            "\n",
            "           1       1.00      0.87      0.93        23\n",
            "           2       0.92      0.93      0.93        61\n",
            "           3       0.84      0.90      0.87        30\n",
            "           4       0.89      0.89      0.89        28\n",
            "           5       0.97      0.97      0.97        34\n",
            "           6       1.00      1.00      1.00         7\n",
            "           7       1.00      1.00      1.00         1\n",
            "\n",
            "    accuracy                           0.92       184\n",
            "   macro avg       0.95      0.94      0.94       184\n",
            "weighted avg       0.93      0.92      0.92       184\n",
            "\n"
          ]
        }
      ],
      "source": [
        "print(\"Classification Report:\")\n",
        "print(classification_report(ytest, yhat))"
      ]
    },
    {
      "cell_type": "markdown",
      "id": "2f32a51b-bb13-4e00-a4d8-df49b2664a2e",
      "metadata": {
        "id": "2f32a51b-bb13-4e00-a4d8-df49b2664a2e"
      },
      "source": [
        "If a class in ytest has no predicted instances (i.e., the model never predicts that class),\n",
        "the precision for that class is undefined (since you can't divide by zero).\n",
        "The classification_report gives a warning when this happens."
      ]
    },
    {
      "cell_type": "markdown",
      "id": "0f921dec-fbb3-496a-a32f-8097cf5ce287",
      "metadata": {
        "id": "0f921dec-fbb3-496a-a32f-8097cf5ce287"
      },
      "source": [
        "# <span style=\"color:skyblue\">**4. Model Visualization**</span>"
      ]
    },
    {
      "cell_type": "markdown",
      "id": "2b8223f3-27d4-4779-88c3-22fd05742fa3",
      "metadata": {
        "id": "2b8223f3-27d4-4779-88c3-22fd05742fa3"
      },
      "source": [
        "## <span style=\"color:orange\">**Model Visualization I: (Extract 1 Decision Tree)**</span>"
      ]
    },
    {
      "cell_type": "code",
      "execution_count": 98,
      "id": "1a27f64c-5641-4fe9-931b-c894db724403",
      "metadata": {
        "id": "1a27f64c-5641-4fe9-931b-c894db724403",
        "outputId": "9885bd94-12e1-4ab8-90c4-8dddcdae3e4f",
        "colab": {
          "base_uri": "https://localhost:8080/",
          "height": 680
        }
      },
      "outputs": [
        {
          "output_type": "display_data",
          "data": {
            "text/plain": [
              "<Figure size 1600x800 with 1 Axes>"
            ],
            "image/png": "[encoded data removed]"
          },
          "metadata": {}
        }
      ],
      "source": [
        "dt=DecisionTreeClassifier(max_depth=3)\n",
        "dt.fit(Xtrain_fin, ytrain)\n",
        "plt.figure(figsize=(16,8))\n",
        "plot_tree(dt,\n",
        "          feature_names=Xtrain_fin.columns,\n",
        "          class_names=['UW','N','OW1','OW2','Ob1','Ob2','Ob3'],\n",
        "          filled=True,\n",
        "          rounded=False,\n",
        "          fontsize=7,\n",
        "          proportion=False,\n",
        "          impurity=False,\n",
        "          precision=2,\n",
        "          )\n",
        "plt.title(\"Random Forest: First Decision Tree\",fontsize=18)\n",
        "plt.show()"
      ]
    },
    {
      "cell_type": "markdown",
      "id": "6a78b513-ce3e-4ca6-b5a8-d2454aa16e86",
      "metadata": {
        "id": "6a78b513-ce3e-4ca6-b5a8-d2454aa16e86"
      },
      "source": [
        "# <span style=\"color:skyblue\">**5. Predictions**</span>"
      ]
    },
    {
      "cell_type": "markdown",
      "id": "601cf1d6-9792-4db4-bcc0-6d1d54206562",
      "metadata": {
        "id": "601cf1d6-9792-4db4-bcc0-6d1d54206562"
      },
      "source": [
        "## <span style=\"color:orange\">**New Observation 1**</span>"
      ]
    },
    {
      "cell_type": "code",
      "execution_count": 49,
      "id": "09ca5391-a529-4b51-9848-91e9553c1d06",
      "metadata": {
        "id": "09ca5391-a529-4b51-9848-91e9553c1d06",
        "outputId": "2f2cb01c-d6db-4803-bee2-40be994c8e1c",
        "colab": {
          "base_uri": "https://localhost:8080/"
        }
      },
      "outputs": [
        {
          "output_type": "stream",
          "name": "stdout",
          "text": [
            "Predicted Obesity Class: OW1\n"
          ]
        }
      ],
      "source": [
        "new1=pd.DataFrame([[34, 1.55, 75, 0, 0, 0, 1, 2, 3, 1, 2, 1, 3, 2, 3, 1]],\n",
        "                    columns=['age', 'height', 'weight', 'gend', 'famhist', 'calH', 'veg', 'meals',\n",
        "                             'snacks', 'smoke', 'water', 'calM', 'phys', 'tech', 'alc', 'trans'])\n",
        "\n",
        "new_ohe=pd.get_dummies(new1[catvars], drop_first=True)\n",
        "new1_scaled=scale.transform(new1[numvars])\n",
        "new1_final=pd.concat([pd.DataFrame(new1_scaled, columns=numvars), new_ohe], axis=1)\n",
        "new1_final=new1_final[Xtrain_fin.columns]\n",
        "prediction=mod.predict(new1_final)\n",
        "obese_level = [\"Under\", \"Normal\", \"OW1\", \"OW2\", \"Ob1\", \"Ob2\", \"Ob3\"]\n",
        "print(f\"Predicted Obesity Class: {obese_level[prediction[0] - 1]}\")"
      ]
    },
    {
      "cell_type": "markdown",
      "id": "6ab16a86-5c94-4358-8669-2c2f891b3bf4",
      "metadata": {
        "id": "6ab16a86-5c94-4358-8669-2c2f891b3bf4"
      },
      "source": [
        "# <span style=\"color:red\">**Random Forests Analysis: Phase 2 (Reduced) - OMIT**</span>\n",
        "The following evaluations show that the improvement was null/very minimal.\n",
        "Use full model for prediction."
      ]
    },
    {
      "cell_type": "markdown",
      "id": "dba25192-d02c-4099-b790-5cc1bfd20299",
      "metadata": {
        "id": "dba25192-d02c-4099-b790-5cc1bfd20299"
      },
      "source": [
        "## <span style=\"color:orange\">**Model Fit**</span>"
      ]
    },
    {
      "cell_type": "code",
      "execution_count": 103,
      "id": "015d8af2-9c1e-4c6f-90aa-fb33c1e7e257",
      "metadata": {
        "jupyter": {
          "source_hidden": true
        },
        "id": "015d8af2-9c1e-4c6f-90aa-fb33c1e7e257"
      },
      "outputs": [],
      "source": [
        "Xtrain_mvf=Xtrain_fin[mvf]\n",
        "mod.fit(Xtrain_mvf, ytrain)\n",
        "yhat_mvf=mod.predict(Xtest_fin[mvf])"
      ]
    },
    {
      "cell_type": "markdown",
      "id": "6761dfeb-5d44-4e37-84c8-f6489d21971e",
      "metadata": {
        "id": "6761dfeb-5d44-4e37-84c8-f6489d21971e"
      },
      "source": [
        "## <span style=\"color:orange\">**Model Evaluation I: Accuracy**</span>"
      ]
    },
    {
      "cell_type": "code",
      "execution_count": 104,
      "id": "0459a66b-382a-483e-a16f-8061f11b9268",
      "metadata": {
        "jupyter": {
          "outputs_hidden": true,
          "source_hidden": true
        },
        "id": "0459a66b-382a-483e-a16f-8061f11b9268",
        "outputId": "9036ffe4-6234-4efb-96c4-274bb3e70cc6",
        "colab": {
          "base_uri": "https://localhost:8080/"
        }
      },
      "outputs": [
        {
          "output_type": "stream",
          "name": "stdout",
          "text": [
            "Accuracy: 0.9239\n"
          ]
        }
      ],
      "source": [
        "# 2 methods for comparison\n",
        "acc_mvf=accuracy_score(ytest, yhat_mvf)\n",
        "print(f\"Accuracy: {acc_mvf:.4f}\")"
      ]
    },
    {
      "cell_type": "markdown",
      "id": "2562c06b-da1d-414f-9258-94a7a0554e42",
      "metadata": {
        "id": "2562c06b-da1d-414f-9258-94a7a0554e42"
      },
      "source": [
        "## <span style=\"color:orange\">**Model Evaluation II: Confusion Matrix**</span>"
      ]
    },
    {
      "cell_type": "code",
      "execution_count": 105,
      "id": "9d3c4eaa-e741-47fa-bbeb-e89d9be84c96",
      "metadata": {
        "collapsed": true,
        "jupyter": {
          "outputs_hidden": true,
          "source_hidden": true
        },
        "id": "9d3c4eaa-e741-47fa-bbeb-e89d9be84c96",
        "outputId": "1f3f7dc4-4bda-4c81-da22-31d40f7a9873",
        "colab": {
          "base_uri": "https://localhost:8080/",
          "height": 526
        }
      },
      "outputs": [
        {
          "output_type": "display_data",
          "data": {
            "text/plain": [
              "<Figure size 540x540 with 2 Axes>"
            ],
            "image/png": "[encoded data removed]"
          },
          "metadata": {}
        }
      ],
      "source": [
        "cm_mvf=confusion_matrix(ytest, yhat_mvf)\n",
        "plt.figure(figsize=(5.4,5.4))\n",
        "sns.heatmap(cm_mvf, annot=True, fmt='d', cmap='Blues',\n",
        "            xticklabels=['Under', 'Norm', 'OW1', 'OW2', 'Ob1', 'Ob2', 'Ob3'],\n",
        "            yticklabels=['Under', 'Norm', 'OW1', 'OW2', 'Ob1', 'Ob2', 'Ob3'])\n",
        "plt.title(\"Confusion Matrix_Reduced\")\n",
        "plt.xlabel(\"Predicted Class\")\n",
        "plt.ylabel(\"True Class\")\n",
        "plt.show()"
      ]
    },
    {
      "cell_type": "markdown",
      "id": "fc2c00b5-854d-4e50-9cca-917f128fbe10",
      "metadata": {
        "id": "fc2c00b5-854d-4e50-9cca-917f128fbe10"
      },
      "source": [
        "## <span style=\"color:orange\">**Model Evaluation III: Cross-Validation**</span>"
      ]
    },
    {
      "cell_type": "code",
      "execution_count": 86,
      "id": "f7913eb3-361e-45ab-9095-a3a5fe3ef1f7",
      "metadata": {
        "jupyter": {
          "source_hidden": true
        },
        "id": "f7913eb3-361e-45ab-9095-a3a5fe3ef1f7",
        "outputId": "f7f49b1f-41f1-4dd9-dca1-d1024fb55dc5",
        "colab": {
          "base_uri": "https://localhost:8080/"
        }
      },
      "outputs": [
        {
          "output_type": "stream",
          "name": "stdout",
          "text": [
            "CV Accuracy per K-fold: [0.88617886 0.85365854 0.86178862 0.87804878 0.86065574 0.87704918]\n",
            "Mean CV Accuracy: 0.8696\n"
          ]
        }
      ],
      "source": [
        "cv_mvf=StratifiedKFold(n_splits=6, shuffle=True, random_state=666)\n",
        "cvresult_mvf=cross_val_score(mod, Xtrain_mvf, ytrain, cv=cv_mvf, scoring='accuracy')\n",
        "print(f\"CV Accuracy per K-fold: {cvresult_mvf}\")\n",
        "print(f\"Mean CV Accuracy: {cvresult_mvf.mean():.4f}\")"
      ]
    },
    {
      "cell_type": "markdown",
      "id": "4af9c69f-e470-4ba9-a1fc-592469189298",
      "metadata": {
        "id": "4af9c69f-e470-4ba9-a1fc-592469189298"
      },
      "source": [
        "## <span style=\"color:orange\">**Model Evaluation V: Classification Report (TBD)**</span>"
      ]
    },
    {
      "cell_type": "code",
      "execution_count": 87,
      "id": "2bf8e44c-6108-4d6a-9dc2-39beb2d3bce2",
      "metadata": {
        "collapsed": true,
        "jupyter": {
          "outputs_hidden": true,
          "source_hidden": true
        },
        "id": "2bf8e44c-6108-4d6a-9dc2-39beb2d3bce2",
        "outputId": "213218f1-fdd4-4d33-ca60-0285d86f9899",
        "colab": {
          "base_uri": "https://localhost:8080/"
        }
      },
      "outputs": [
        {
          "output_type": "stream",
          "name": "stdout",
          "text": [
            "Classification Report:\n",
            "              precision    recall  f1-score   support\n",
            "\n",
            "           1       1.00      0.87      0.93        23\n",
            "           2       0.92      0.95      0.94        61\n",
            "           3       0.87      0.87      0.87        30\n",
            "           4       0.89      0.89      0.89        28\n",
            "           5       0.92      0.97      0.94        34\n",
            "           6       1.00      0.86      0.92         7\n",
            "           7       1.00      1.00      1.00         1\n",
            "\n",
            "    accuracy                           0.92       184\n",
            "   macro avg       0.94      0.92      0.93       184\n",
            "weighted avg       0.92      0.92      0.92       184\n",
            "\n"
          ]
        }
      ],
      "source": [
        "print(\"Classification Report:\")\n",
        "print(classification_report(ytest, yhat_mvf))"
      ]
    },
    {
      "cell_type": "code",
      "execution_count": null,
      "id": "2ffc0785-024a-42e0-a766-29e6bd70f8fc",
      "metadata": {
        "id": "2ffc0785-024a-42e0-a766-29e6bd70f8fc"
      },
      "outputs": [],
      "source": []
    }
  ],
  "metadata": {
    "kernelspec": {
      "display_name": "Python 3 (ipykernel)",
      "language": "python",
      "name": "python3"
    },
    "language_info": {
      "codemirror_mode": {
        "name": "ipython",
        "version": 3
      },
      "file_extension": ".py",
      "mimetype": "text/x-python",
      "name": "python",
      "nbconvert_exporter": "python",
      "pygments_lexer": "ipython3",
      "version": "3.12.3"
    },
    "colab": {
      "provenance": []
    }
  },
  "nbformat": 4,
  "nbformat_minor": 5
}